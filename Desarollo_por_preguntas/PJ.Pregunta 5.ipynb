{
 "cells": [
  {
   "cell_type": "markdown",
   "id": "f8209fa1",
   "metadata": {},
   "source": [
    "# 5 Actualmente queremos destinar dinero para igualar los mejores precios de la competencia. ¿Cuál es la cantidad total a invertir?\n"
   ]
  },
  {
   "cell_type": "markdown",
   "id": "c817f7ba",
   "metadata": {},
   "source": [
    "##### Esta pregunta se puede interpretar de distintas maneras, ya que el concepto de cuales son los mejores precios de la competencia no esta bien definido. Los mejores precios no son aquellos en los que el precio de referencia sea mas bajo ya que son valores que dependen del valor del producto en sí y no que yo esté ofertando un mejor precio. Para poder hacer una comparación objetiva voy a seguir dos pautas: \n",
    "\n",
    "* La primera será coger dos productos comunes que haya en los supermercados y que no den lugar a confusión a la hora de compararlos. En este caso he cogido la botella de Aquarius de 1,5 l ya que es indidudable de que este producto será el mismo en todos los supermercados y una diferencia de precio en esto sería un claro indicador del desfase en los precios.\n",
    "\n",
    "* La segunda será escoger un próducto básico de la marca blanca de todos los supermercados."
   ]
  },
  {
   "cell_type": "code",
   "execution_count": 1,
   "id": "4518f8be",
   "metadata": {},
   "outputs": [],
   "source": [
    "import pandas as pd\n",
    "import numpy as np\n",
    "import io\n",
    "import matplotlib.pyplot as plt"
   ]
  },
  {
   "cell_type": "code",
   "execution_count": 2,
   "id": "5fc74d96",
   "metadata": {},
   "outputs": [],
   "source": [
    "df = pd.read_csv(\"raw_data.csv\")"
   ]
  },
  {
   "cell_type": "code",
   "execution_count": 3,
   "id": "40cd91f5",
   "metadata": {},
   "outputs": [],
   "source": [
    "df_mercadona= df[df[\"id_reference_supermarket\"]==\"M1\"]\n",
    "df_carrefour= df[df[\"id_reference_supermarket\"]==\"M2\"]\n",
    "df_dia= df[df[\"id_reference_supermarket\"]==\"M3\"]\n"
   ]
  },
  {
   "cell_type": "code",
   "execution_count": 4,
   "id": "63284d72",
   "metadata": {},
   "outputs": [
    {
     "name": "stdout",
     "output_type": "stream",
     "text": [
      "<class 'pandas.core.frame.DataFrame'>\n",
      "Int64Index: 1693583 entries, 2053 to 8223981\n",
      "Data columns (total 9 columns):\n",
      " #   Column                    Dtype  \n",
      "---  ------                    -----  \n",
      " 0   category                  object \n",
      " 1   name                      object \n",
      " 2   description               object \n",
      " 3   price                     float64\n",
      " 4   reference_price           float64\n",
      " 5   reference_unit            object \n",
      " 6   insert_date               object \n",
      " 7   product_id                object \n",
      " 8   id_reference_supermarket  object \n",
      "dtypes: float64(2), object(7)\n",
      "memory usage: 129.2+ MB\n"
     ]
    }
   ],
   "source": [
    "df_carrefour.info()"
   ]
  },
  {
   "cell_type": "code",
   "execution_count": 5,
   "id": "8671daee",
   "metadata": {},
   "outputs": [
    {
     "data": {
      "text/html": [
       "<div>\n",
       "<style scoped>\n",
       "    .dataframe tbody tr th:only-of-type {\n",
       "        vertical-align: middle;\n",
       "    }\n",
       "\n",
       "    .dataframe tbody tr th {\n",
       "        vertical-align: top;\n",
       "    }\n",
       "\n",
       "    .dataframe thead th {\n",
       "        text-align: right;\n",
       "    }\n",
       "</style>\n",
       "<table border=\"1\" class=\"dataframe\">\n",
       "  <thead>\n",
       "    <tr style=\"text-align: right;\">\n",
       "      <th></th>\n",
       "      <th>category</th>\n",
       "      <th>name</th>\n",
       "      <th>description</th>\n",
       "      <th>price</th>\n",
       "      <th>reference_price</th>\n",
       "      <th>reference_unit</th>\n",
       "      <th>insert_date</th>\n",
       "      <th>product_id</th>\n",
       "      <th>id_reference_supermarket</th>\n",
       "    </tr>\n",
       "  </thead>\n",
       "  <tbody>\n",
       "    <tr>\n",
       "      <th>2053</th>\n",
       "      <td>bebidas_vinos_rosado</td>\n",
       "      <td>Muga Rosado 2019</td>\n",
       "      <td>NaN</td>\n",
       "      <td>9.15</td>\n",
       "      <td>9.15</td>\n",
       "      <td>ud</td>\n",
       "      <td>2021-03-06 00:00:00</td>\n",
       "      <td>4a9bb57a9ebbad18dff028c702d70c0e</td>\n",
       "      <td>M2</td>\n",
       "    </tr>\n",
       "    <tr>\n",
       "      <th>2054</th>\n",
       "      <td>bebidas_vinos_blanco</td>\n",
       "      <td>Blanc Pescador Espumoso Blanco</td>\n",
       "      <td>NaN</td>\n",
       "      <td>3.99</td>\n",
       "      <td>3.99</td>\n",
       "      <td>ud</td>\n",
       "      <td>2021-03-06 00:00:00</td>\n",
       "      <td>e2edfbb48927c755131eab0016995453</td>\n",
       "      <td>M2</td>\n",
       "    </tr>\n",
       "    <tr>\n",
       "      <th>2055</th>\n",
       "      <td>bebidas_alcoholes_ron</td>\n",
       "      <td>Ron Brugal añejo superior 70 cl.</td>\n",
       "      <td>NaN</td>\n",
       "      <td>13.80</td>\n",
       "      <td>19.71</td>\n",
       "      <td>l</td>\n",
       "      <td>2021-03-06 00:00:00</td>\n",
       "      <td>e86bfe04af8fdab975a3ac9a86276e3f</td>\n",
       "      <td>M2</td>\n",
       "    </tr>\n",
       "  </tbody>\n",
       "</table>\n",
       "</div>"
      ],
      "text/plain": [
       "                   category                              name description  \\\n",
       "2053   bebidas_vinos_rosado                  Muga Rosado 2019         NaN   \n",
       "2054   bebidas_vinos_blanco    Blanc Pescador Espumoso Blanco         NaN   \n",
       "2055  bebidas_alcoholes_ron  Ron Brugal añejo superior 70 cl.         NaN   \n",
       "\n",
       "      price  reference_price reference_unit          insert_date  \\\n",
       "2053   9.15             9.15             ud  2021-03-06 00:00:00   \n",
       "2054   3.99             3.99             ud  2021-03-06 00:00:00   \n",
       "2055  13.80            19.71              l  2021-03-06 00:00:00   \n",
       "\n",
       "                            product_id id_reference_supermarket  \n",
       "2053  4a9bb57a9ebbad18dff028c702d70c0e                       M2  \n",
       "2054  e2edfbb48927c755131eab0016995453                       M2  \n",
       "2055  e86bfe04af8fdab975a3ac9a86276e3f                       M2  "
      ]
     },
     "execution_count": 5,
     "metadata": {},
     "output_type": "execute_result"
    }
   ],
   "source": [
    "df_carrefour.head(3)"
   ]
  },
  {
   "cell_type": "code",
   "execution_count": 6,
   "id": "2be07556",
   "metadata": {},
   "outputs": [
    {
     "data": {
      "text/html": [
       "<div>\n",
       "<style scoped>\n",
       "    .dataframe tbody tr th:only-of-type {\n",
       "        vertical-align: middle;\n",
       "    }\n",
       "\n",
       "    .dataframe tbody tr th {\n",
       "        vertical-align: top;\n",
       "    }\n",
       "\n",
       "    .dataframe thead th {\n",
       "        text-align: right;\n",
       "    }\n",
       "</style>\n",
       "<table border=\"1\" class=\"dataframe\">\n",
       "  <thead>\n",
       "    <tr style=\"text-align: right;\">\n",
       "      <th></th>\n",
       "      <th>category</th>\n",
       "      <th>name</th>\n",
       "      <th>description</th>\n",
       "      <th>price</th>\n",
       "      <th>reference_price</th>\n",
       "      <th>reference_unit</th>\n",
       "      <th>insert_date</th>\n",
       "      <th>product_id</th>\n",
       "      <th>id_reference_supermarket</th>\n",
       "    </tr>\n",
       "  </thead>\n",
       "  <tbody>\n",
       "    <tr>\n",
       "      <th>8221179</th>\n",
       "      <td>agua_y_refrescos_isotonico_y_energetico</td>\n",
       "      <td>Bebida isotónica limón Aquarius zero azúcar</td>\n",
       "      <td>Botella</td>\n",
       "      <td>1.8</td>\n",
       "      <td>1.2</td>\n",
       "      <td>l</td>\n",
       "      <td>2022-09-15 00:00:00</td>\n",
       "      <td>e40cab6732ef095805884ebf26759890</td>\n",
       "      <td>M1</td>\n",
       "    </tr>\n",
       "    <tr>\n",
       "      <th>8221157</th>\n",
       "      <td>agua_y_refrescos_isotonico_y_energetico</td>\n",
       "      <td>Bebida isotónica naranja Aquarius</td>\n",
       "      <td>Botella</td>\n",
       "      <td>1.8</td>\n",
       "      <td>1.2</td>\n",
       "      <td>l</td>\n",
       "      <td>2022-09-15 00:00:00</td>\n",
       "      <td>ed6b157243bb5b81f11dccd5b5d394e9</td>\n",
       "      <td>M1</td>\n",
       "    </tr>\n",
       "  </tbody>\n",
       "</table>\n",
       "</div>"
      ],
      "text/plain": [
       "                                        category  \\\n",
       "8221179  agua_y_refrescos_isotonico_y_energetico   \n",
       "8221157  agua_y_refrescos_isotonico_y_energetico   \n",
       "\n",
       "                                                name description  price  \\\n",
       "8221179  Bebida isotónica limón Aquarius zero azúcar     Botella    1.8   \n",
       "8221157            Bebida isotónica naranja Aquarius     Botella    1.8   \n",
       "\n",
       "         reference_price reference_unit          insert_date  \\\n",
       "8221179              1.2              l  2022-09-15 00:00:00   \n",
       "8221157              1.2              l  2022-09-15 00:00:00   \n",
       "\n",
       "                               product_id id_reference_supermarket  \n",
       "8221179  e40cab6732ef095805884ebf26759890                       M1  \n",
       "8221157  ed6b157243bb5b81f11dccd5b5d394e9                       M1  "
      ]
     },
     "execution_count": 6,
     "metadata": {},
     "output_type": "execute_result"
    }
   ],
   "source": [
    "df_mercadona_Aquarius=df_mercadona[(df_mercadona[\"name\"].str.contains(\"Aquarius\")) & df_mercadona[\"description\"].str.contains(\"Botella\")]\n",
    "df_mercadona_Aquarius.sort_values(by=\"insert_date\",ascending=False).head(2)"
   ]
  },
  {
   "cell_type": "code",
   "execution_count": 7,
   "id": "ca94afc3",
   "metadata": {},
   "outputs": [],
   "source": [
    "df_mercadona_Aquarius_gb=df_mercadona_Aquarius.groupby(by=\"product_id\").agg({\"reference_price\":\"mean\",\"category\":\"count\"})"
   ]
  },
  {
   "cell_type": "code",
   "execution_count": 8,
   "id": "10bb6bd6",
   "metadata": {},
   "outputs": [
    {
     "data": {
      "text/plain": [
       "1.1071425163983304"
      ]
     },
     "execution_count": 8,
     "metadata": {},
     "output_type": "execute_result"
    }
   ],
   "source": [
    "df_mercadona_Aquarius_gb[\"reference_price\"].mean()"
   ]
  },
  {
   "cell_type": "code",
   "execution_count": 9,
   "id": "0142aeb2",
   "metadata": {},
   "outputs": [
    {
     "data": {
      "text/html": [
       "<div>\n",
       "<style scoped>\n",
       "    .dataframe tbody tr th:only-of-type {\n",
       "        vertical-align: middle;\n",
       "    }\n",
       "\n",
       "    .dataframe tbody tr th {\n",
       "        vertical-align: top;\n",
       "    }\n",
       "\n",
       "    .dataframe thead th {\n",
       "        text-align: right;\n",
       "    }\n",
       "</style>\n",
       "<table border=\"1\" class=\"dataframe\">\n",
       "  <thead>\n",
       "    <tr style=\"text-align: right;\">\n",
       "      <th></th>\n",
       "      <th>category</th>\n",
       "      <th>name</th>\n",
       "      <th>description</th>\n",
       "      <th>price</th>\n",
       "      <th>reference_price</th>\n",
       "      <th>reference_unit</th>\n",
       "      <th>insert_date</th>\n",
       "      <th>product_id</th>\n",
       "      <th>id_reference_supermarket</th>\n",
       "    </tr>\n",
       "  </thead>\n",
       "  <tbody>\n",
       "    <tr>\n",
       "      <th>8211128</th>\n",
       "      <td>bebidas_refrescos_sabores_sin_gas</td>\n",
       "      <td>Aquarius sabor naranja botella 1,5 l.</td>\n",
       "      <td>NaN</td>\n",
       "      <td>1.8</td>\n",
       "      <td>1.2</td>\n",
       "      <td>l</td>\n",
       "      <td>2022-09-15 00:00:00</td>\n",
       "      <td>3637c6aa4cb98f22e3ebf340c1e1c79f</td>\n",
       "      <td>M2</td>\n",
       "    </tr>\n",
       "    <tr>\n",
       "      <th>8202603</th>\n",
       "      <td>bebidas_refrescos_sabores_sin_gas</td>\n",
       "      <td>Aquarius sabor naranja zero azúcar sin caloría...</td>\n",
       "      <td>NaN</td>\n",
       "      <td>1.8</td>\n",
       "      <td>1.2</td>\n",
       "      <td>l</td>\n",
       "      <td>2022-09-14 00:00:00</td>\n",
       "      <td>2bbee0f808ad648095941a51a62f934f</td>\n",
       "      <td>M2</td>\n",
       "    </tr>\n",
       "  </tbody>\n",
       "</table>\n",
       "</div>"
      ],
      "text/plain": [
       "                                  category  \\\n",
       "8211128  bebidas_refrescos_sabores_sin_gas   \n",
       "8202603  bebidas_refrescos_sabores_sin_gas   \n",
       "\n",
       "                                                      name description  price  \\\n",
       "8211128              Aquarius sabor naranja botella 1,5 l.         NaN    1.8   \n",
       "8202603  Aquarius sabor naranja zero azúcar sin caloría...         NaN    1.8   \n",
       "\n",
       "         reference_price reference_unit          insert_date  \\\n",
       "8211128              1.2              l  2022-09-15 00:00:00   \n",
       "8202603              1.2              l  2022-09-14 00:00:00   \n",
       "\n",
       "                               product_id id_reference_supermarket  \n",
       "8211128  3637c6aa4cb98f22e3ebf340c1e1c79f                       M2  \n",
       "8202603  2bbee0f808ad648095941a51a62f934f                       M2  "
      ]
     },
     "execution_count": 9,
     "metadata": {},
     "output_type": "execute_result"
    }
   ],
   "source": [
    "df_carrefour_Aquarius=df_carrefour[(df_carrefour[\"name\"].str.contains(\"Aquarius\")) & df_carrefour[\"name\"].str.contains(\"botella 1,5\")]\n",
    "df_carrefour_Aquarius.sort_values(by=\"insert_date\",ascending=False).head(2)"
   ]
  },
  {
   "cell_type": "code",
   "execution_count": 10,
   "id": "d6786672",
   "metadata": {},
   "outputs": [
    {
     "data": {
      "text/plain": [
       "1.087681957612939"
      ]
     },
     "execution_count": 10,
     "metadata": {},
     "output_type": "execute_result"
    }
   ],
   "source": [
    "df_Aquarius_carrefour_gb=df_carrefour_Aquarius.groupby(by=\"product_id\").agg({\"reference_price\":\"mean\",\"category\":\"count\"})\n",
    "df_Aquarius_carrefour_gb[\"reference_price\"].mean()"
   ]
  },
  {
   "cell_type": "code",
   "execution_count": 11,
   "id": "b2d11766",
   "metadata": {},
   "outputs": [
    {
     "data": {
      "text/html": [
       "<div>\n",
       "<style scoped>\n",
       "    .dataframe tbody tr th:only-of-type {\n",
       "        vertical-align: middle;\n",
       "    }\n",
       "\n",
       "    .dataframe tbody tr th {\n",
       "        vertical-align: top;\n",
       "    }\n",
       "\n",
       "    .dataframe thead th {\n",
       "        text-align: right;\n",
       "    }\n",
       "</style>\n",
       "<table border=\"1\" class=\"dataframe\">\n",
       "  <thead>\n",
       "    <tr style=\"text-align: right;\">\n",
       "      <th></th>\n",
       "      <th>category</th>\n",
       "      <th>name</th>\n",
       "      <th>description</th>\n",
       "      <th>price</th>\n",
       "      <th>reference_price</th>\n",
       "      <th>reference_unit</th>\n",
       "      <th>insert_date</th>\n",
       "      <th>product_id</th>\n",
       "      <th>id_reference_supermarket</th>\n",
       "    </tr>\n",
       "  </thead>\n",
       "  <tbody>\n",
       "    <tr>\n",
       "      <th>8221318</th>\n",
       "      <td>bebidas_bebidas_isotonicas_y_energeticas</td>\n",
       "      <td>AQUARIUS bebida refrescante de limón zero bote...</td>\n",
       "      <td>NaN</td>\n",
       "      <td>1.99</td>\n",
       "      <td>1.33</td>\n",
       "      <td>l</td>\n",
       "      <td>2022-09-15 00:00:00</td>\n",
       "      <td>4bbb8fecec62f6b9fe0791e6ce54b51f</td>\n",
       "      <td>M3</td>\n",
       "    </tr>\n",
       "    <tr>\n",
       "      <th>8221315</th>\n",
       "      <td>bebidas_bebidas_isotonicas_y_energeticas</td>\n",
       "      <td>AQUARIUS bebida refrescante de limón botella 1...</td>\n",
       "      <td>NaN</td>\n",
       "      <td>1.85</td>\n",
       "      <td>1.23</td>\n",
       "      <td>l</td>\n",
       "      <td>2022-09-15 00:00:00</td>\n",
       "      <td>e06ac1ef58a79f6dce7c2471bb255eb2</td>\n",
       "      <td>M3</td>\n",
       "    </tr>\n",
       "  </tbody>\n",
       "</table>\n",
       "</div>"
      ],
      "text/plain": [
       "                                         category  \\\n",
       "8221318  bebidas_bebidas_isotonicas_y_energeticas   \n",
       "8221315  bebidas_bebidas_isotonicas_y_energeticas   \n",
       "\n",
       "                                                      name description  price  \\\n",
       "8221318  AQUARIUS bebida refrescante de limón zero bote...         NaN   1.99   \n",
       "8221315  AQUARIUS bebida refrescante de limón botella 1...         NaN   1.85   \n",
       "\n",
       "         reference_price reference_unit          insert_date  \\\n",
       "8221318             1.33              l  2022-09-15 00:00:00   \n",
       "8221315             1.23              l  2022-09-15 00:00:00   \n",
       "\n",
       "                               product_id id_reference_supermarket  \n",
       "8221318  4bbb8fecec62f6b9fe0791e6ce54b51f                       M3  \n",
       "8221315  e06ac1ef58a79f6dce7c2471bb255eb2                       M3  "
      ]
     },
     "execution_count": 11,
     "metadata": {},
     "output_type": "execute_result"
    }
   ],
   "source": [
    "df_Aquarius_dia=df_dia[(df_dia[\"name\"].str.contains(\"AQUARIUS\")) & df_dia[\"name\"].str.contains(\"1.5\")]\n",
    "df_Aquarius_dia.sort_values(by=\"insert_date\",ascending=False).head(2)"
   ]
  },
  {
   "cell_type": "code",
   "execution_count": 12,
   "id": "b54e6177",
   "metadata": {},
   "outputs": [
    {
     "data": {
      "text/plain": [
       "1.2102679050273846"
      ]
     },
     "execution_count": 12,
     "metadata": {},
     "output_type": "execute_result"
    }
   ],
   "source": [
    "df_Aquarius_dia_gb=df_Aquarius_dia.groupby(by=\"product_id\").agg({\"reference_price\":\"mean\",\"category\":\"count\"})\n",
    "df_Aquarius_dia_gb[\"reference_price\"].mean()"
   ]
  },
  {
   "cell_type": "code",
   "execution_count": 13,
   "id": "445c8e25",
   "metadata": {},
   "outputs": [],
   "source": [
    "comp_Aquarius= pd.DataFrame(\n",
    "{\"avg price Aquarius\" : [1.1071,1.0876,1.2102]}, \n",
    "index = [\"Mercadona\",\"Carrefour\",\"DIA\"])\n",
    "total = comp_Aquarius.sum(axis=1)"
   ]
  },
  {
   "cell_type": "code",
   "execution_count": 14,
   "id": "4e5f4547",
   "metadata": {},
   "outputs": [
    {
     "data": {
      "text/plain": [
       "<BarContainer object of 3 artists>"
      ]
     },
     "execution_count": 14,
     "metadata": {},
     "output_type": "execute_result"
    },
    {
     "data": {
      "image/png": "[encoded data removed]",
      "text/plain": [
       "<Figure size 640x480 with 1 Axes>"
      ]
     },
     "metadata": {},
     "output_type": "display_data"
    }
   ],
   "source": [
    "plt.bar(total.index,total,color=[\"green\",\"blue\",\"red\"], label=\"avg price Aquarius\")"
   ]
  },
  {
   "cell_type": "markdown",
   "id": "c417f6cd",
   "metadata": {},
   "source": [
    "### 1º Planteación\n",
    "\n",
    "* Nos hemos asegurado de que para esta primera prueba solo se han seleccionado **botellas de 1,5 L de Aquarius para los tres supermercados a comparar** (Mercadona,Aquarius y Dia). Tambien se ha comprobado que en los tres casos el número de veces que se repetían los distintos productos para ese mismo formato era prácticamente el mismo y así obtener una media representativa y también que el precio de estos distintos productos para el mismo formato no difería en mucho para evitar outlayers que menoscabasen la representatividad de el estudio o como indicador de algun error al filtrar los datos.\n",
    "\n",
    "* Como resultado tenemos que para un mismo producto la media del precio es: **Mercadona= 1.1071 Carrefour=1.0876 DIA=1.2102**. Mercadona se sitúa por debajo de DIA y por encima de Carrefour. En este caso **para alcanzar a su máximo competidor tendría que invertir mínimo un 1,86% del precio del producto** para alcanzar el precio ofertado por Carrefour. "
   ]
  },
  {
   "cell_type": "code",
   "execution_count": 15,
   "id": "4d01ad79",
   "metadata": {},
   "outputs": [
    {
     "data": {
      "text/html": [
       "<div>\n",
       "<style scoped>\n",
       "    .dataframe tbody tr th:only-of-type {\n",
       "        vertical-align: middle;\n",
       "    }\n",
       "\n",
       "    .dataframe tbody tr th {\n",
       "        vertical-align: top;\n",
       "    }\n",
       "\n",
       "    .dataframe thead th {\n",
       "        text-align: right;\n",
       "    }\n",
       "</style>\n",
       "<table border=\"1\" class=\"dataframe\">\n",
       "  <thead>\n",
       "    <tr style=\"text-align: right;\">\n",
       "      <th></th>\n",
       "      <th>category</th>\n",
       "      <th>name</th>\n",
       "      <th>description</th>\n",
       "      <th>price</th>\n",
       "      <th>reference_price</th>\n",
       "      <th>reference_unit</th>\n",
       "      <th>insert_date</th>\n",
       "      <th>product_id</th>\n",
       "      <th>id_reference_supermarket</th>\n",
       "    </tr>\n",
       "  </thead>\n",
       "  <tbody>\n",
       "    <tr>\n",
       "      <th>8222524</th>\n",
       "      <td>huevos_leche_y_mantequilla_leche_y_bebidas_veg...</td>\n",
       "      <td>Leche entera Hacendado</td>\n",
       "      <td>Brick</td>\n",
       "      <td>0.79</td>\n",
       "      <td>0.79</td>\n",
       "      <td>l</td>\n",
       "      <td>2022-09-15 00:00:00</td>\n",
       "      <td>a7b221ad789a19cc65b25afff807145b</td>\n",
       "      <td>M1</td>\n",
       "    </tr>\n",
       "    <tr>\n",
       "      <th>8210381</th>\n",
       "      <td>huevos_leche_y_mantequilla_leche_y_bebidas_veg...</td>\n",
       "      <td>Leche entera Hacendado</td>\n",
       "      <td>Brick</td>\n",
       "      <td>0.79</td>\n",
       "      <td>0.79</td>\n",
       "      <td>l</td>\n",
       "      <td>2022-09-14 00:00:00</td>\n",
       "      <td>a7b221ad789a19cc65b25afff807145b</td>\n",
       "      <td>M1</td>\n",
       "    </tr>\n",
       "  </tbody>\n",
       "</table>\n",
       "</div>"
      ],
      "text/plain": [
       "                                                  category  \\\n",
       "8222524  huevos_leche_y_mantequilla_leche_y_bebidas_veg...   \n",
       "8210381  huevos_leche_y_mantequilla_leche_y_bebidas_veg...   \n",
       "\n",
       "                           name description  price  reference_price  \\\n",
       "8222524  Leche entera Hacendado       Brick   0.79             0.79   \n",
       "8210381  Leche entera Hacendado       Brick   0.79             0.79   \n",
       "\n",
       "        reference_unit          insert_date                        product_id  \\\n",
       "8222524              l  2022-09-15 00:00:00  a7b221ad789a19cc65b25afff807145b   \n",
       "8210381              l  2022-09-14 00:00:00  a7b221ad789a19cc65b25afff807145b   \n",
       "\n",
       "        id_reference_supermarket  \n",
       "8222524                       M1  \n",
       "8210381                       M1  "
      ]
     },
     "execution_count": 15,
     "metadata": {},
     "output_type": "execute_result"
    }
   ],
   "source": [
    "df_mercadona_marcablanca=df_mercadona[df_mercadona[\"name\"].str.contains(\"Hacendado\") & df_mercadona[\"name\"].str.contains(\"Leche entera Hacendado\") & df_mercadona[\"description\"].str.contains(\"Brick\")]\n",
    "df_mercadona_marcablanca.sort_values(by=\"insert_date\",ascending=False).head(2)"
   ]
  },
  {
   "cell_type": "code",
   "execution_count": 16,
   "id": "0d382b44",
   "metadata": {},
   "outputs": [
    {
     "data": {
      "text/plain": [
       "0.6648561151079136"
      ]
     },
     "execution_count": 16,
     "metadata": {},
     "output_type": "execute_result"
    }
   ],
   "source": [
    "df_mercadona_marcablanca_gb=df_mercadona_marcablanca.groupby(by=\"product_id\").agg({\"reference_price\":\"mean\",\"category\":\"count\"})\n",
    "df_mercadona_marcablanca_gb[\"reference_price\"].mean()"
   ]
  },
  {
   "cell_type": "code",
   "execution_count": 17,
   "id": "c602ef0e",
   "metadata": {},
   "outputs": [
    {
     "data": {
      "text/html": [
       "<div>\n",
       "<style scoped>\n",
       "    .dataframe tbody tr th:only-of-type {\n",
       "        vertical-align: middle;\n",
       "    }\n",
       "\n",
       "    .dataframe tbody tr th {\n",
       "        vertical-align: top;\n",
       "    }\n",
       "\n",
       "    .dataframe thead th {\n",
       "        text-align: right;\n",
       "    }\n",
       "</style>\n",
       "<table border=\"1\" class=\"dataframe\">\n",
       "  <thead>\n",
       "    <tr style=\"text-align: right;\">\n",
       "      <th></th>\n",
       "      <th>category</th>\n",
       "      <th>name</th>\n",
       "      <th>description</th>\n",
       "      <th>price</th>\n",
       "      <th>reference_price</th>\n",
       "      <th>reference_unit</th>\n",
       "      <th>insert_date</th>\n",
       "      <th>product_id</th>\n",
       "      <th>id_reference_supermarket</th>\n",
       "    </tr>\n",
       "  </thead>\n",
       "  <tbody>\n",
       "    <tr>\n",
       "      <th>8210763</th>\n",
       "      <td>la_despensa_lacteos_leche</td>\n",
       "      <td>Leche entera Carrefour brik 1 l.</td>\n",
       "      <td>NaN</td>\n",
       "      <td>0.78</td>\n",
       "      <td>0.78</td>\n",
       "      <td>l</td>\n",
       "      <td>2022-09-15 00:00:00</td>\n",
       "      <td>f2d47e58824279ec735ff3a44fcde4f5</td>\n",
       "      <td>M2</td>\n",
       "    </tr>\n",
       "    <tr>\n",
       "      <th>8202188</th>\n",
       "      <td>la_despensa_lacteos_leche</td>\n",
       "      <td>Leche entera Carrefour brik 1 l.</td>\n",
       "      <td>NaN</td>\n",
       "      <td>0.78</td>\n",
       "      <td>0.78</td>\n",
       "      <td>l</td>\n",
       "      <td>2022-09-14 00:00:00</td>\n",
       "      <td>f2d47e58824279ec735ff3a44fcde4f5</td>\n",
       "      <td>M2</td>\n",
       "    </tr>\n",
       "  </tbody>\n",
       "</table>\n",
       "</div>"
      ],
      "text/plain": [
       "                          category                              name  \\\n",
       "8210763  la_despensa_lacteos_leche  Leche entera Carrefour brik 1 l.   \n",
       "8202188  la_despensa_lacteos_leche  Leche entera Carrefour brik 1 l.   \n",
       "\n",
       "        description  price  reference_price reference_unit  \\\n",
       "8210763         NaN   0.78             0.78              l   \n",
       "8202188         NaN   0.78             0.78              l   \n",
       "\n",
       "                 insert_date                        product_id  \\\n",
       "8210763  2022-09-15 00:00:00  f2d47e58824279ec735ff3a44fcde4f5   \n",
       "8202188  2022-09-14 00:00:00  f2d47e58824279ec735ff3a44fcde4f5   \n",
       "\n",
       "        id_reference_supermarket  \n",
       "8210763                       M2  \n",
       "8202188                       M2  "
      ]
     },
     "execution_count": 17,
     "metadata": {},
     "output_type": "execute_result"
    }
   ],
   "source": [
    "df_carrefour_marcablanca=df_carrefour[(df_carrefour[\"name\"].str.contains(\"Leche entera Carrefour brik 1\")) & df_carrefour[\"name\"].str.contains(\"Leche\")& df_carrefour[\"reference_unit\"].str.contains(\"l\")]\n",
    "df_carrefour_marcablanca.sort_values(by=\"insert_date\",ascending=False).head(2)"
   ]
  },
  {
   "cell_type": "code",
   "execution_count": 18,
   "id": "9daca47e",
   "metadata": {},
   "outputs": [
    {
     "data": {
      "text/plain": [
       "0.65625"
      ]
     },
     "execution_count": 18,
     "metadata": {},
     "output_type": "execute_result"
    }
   ],
   "source": [
    "df_carrefour_marcablanca_gb=df_carrefour_marcablanca.groupby(by=\"product_id\").agg({\"reference_price\":\"mean\",\"category\":\"count\"})\n",
    "df_carrefour_marcablanca_gb[\"reference_price\"].mean()"
   ]
  },
  {
   "cell_type": "code",
   "execution_count": 19,
   "id": "19a932ff",
   "metadata": {},
   "outputs": [
    {
     "data": {
      "text/html": [
       "<div>\n",
       "<style scoped>\n",
       "    .dataframe tbody tr th:only-of-type {\n",
       "        vertical-align: middle;\n",
       "    }\n",
       "\n",
       "    .dataframe tbody tr th {\n",
       "        vertical-align: top;\n",
       "    }\n",
       "\n",
       "    .dataframe thead th {\n",
       "        text-align: right;\n",
       "    }\n",
       "</style>\n",
       "<table border=\"1\" class=\"dataframe\">\n",
       "  <thead>\n",
       "    <tr style=\"text-align: right;\">\n",
       "      <th></th>\n",
       "      <th>category</th>\n",
       "      <th>name</th>\n",
       "      <th>description</th>\n",
       "      <th>price</th>\n",
       "      <th>reference_price</th>\n",
       "      <th>reference_unit</th>\n",
       "      <th>insert_date</th>\n",
       "      <th>product_id</th>\n",
       "      <th>id_reference_supermarket</th>\n",
       "    </tr>\n",
       "  </thead>\n",
       "  <tbody>\n",
       "    <tr>\n",
       "      <th>8215090</th>\n",
       "      <td>despensa_lacteos_y_huevos_leche</td>\n",
       "      <td>DIA LACTEA leche entera envase 1 lt</td>\n",
       "      <td>NaN</td>\n",
       "      <td>0.85</td>\n",
       "      <td>0.85</td>\n",
       "      <td>l</td>\n",
       "      <td>2022-09-15 00:00:00</td>\n",
       "      <td>cdc0819d53ae6bfeac6170814aced501</td>\n",
       "      <td>M3</td>\n",
       "    </tr>\n",
       "    <tr>\n",
       "      <th>8210227</th>\n",
       "      <td>despensa_lacteos_y_huevos_leche</td>\n",
       "      <td>DIA LACTEA leche entera envase 1 lt</td>\n",
       "      <td>NaN</td>\n",
       "      <td>0.85</td>\n",
       "      <td>0.85</td>\n",
       "      <td>l</td>\n",
       "      <td>2022-09-14 00:00:00</td>\n",
       "      <td>cdc0819d53ae6bfeac6170814aced501</td>\n",
       "      <td>M3</td>\n",
       "    </tr>\n",
       "  </tbody>\n",
       "</table>\n",
       "</div>"
      ],
      "text/plain": [
       "                                category                                 name  \\\n",
       "8215090  despensa_lacteos_y_huevos_leche  DIA LACTEA leche entera envase 1 lt   \n",
       "8210227  despensa_lacteos_y_huevos_leche  DIA LACTEA leche entera envase 1 lt   \n",
       "\n",
       "        description  price  reference_price reference_unit  \\\n",
       "8215090         NaN   0.85             0.85              l   \n",
       "8210227         NaN   0.85             0.85              l   \n",
       "\n",
       "                 insert_date                        product_id  \\\n",
       "8215090  2022-09-15 00:00:00  cdc0819d53ae6bfeac6170814aced501   \n",
       "8210227  2022-09-14 00:00:00  cdc0819d53ae6bfeac6170814aced501   \n",
       "\n",
       "        id_reference_supermarket  \n",
       "8215090                       M3  \n",
       "8210227                       M3  "
      ]
     },
     "execution_count": 19,
     "metadata": {},
     "output_type": "execute_result"
    }
   ],
   "source": [
    "df_marcablanca_dia=df_dia[(df_dia[\"name\"]==\"DIA leche entera envase 1 lt\") | (df_dia[\"name\"]==\"DIA LACTEA leche entera envase 1 lt\")]\n",
    "df_marcablanca_dia.sort_values(by=\"insert_date\",ascending=False).head(2)"
   ]
  },
  {
   "cell_type": "code",
   "execution_count": 20,
   "id": "2523d3ed",
   "metadata": {},
   "outputs": [
    {
     "data": {
      "text/plain": [
       "0.6702893309222423"
      ]
     },
     "execution_count": 20,
     "metadata": {},
     "output_type": "execute_result"
    }
   ],
   "source": [
    "df_marcablanca_dia_gb=df_marcablanca_dia.groupby(by=\"product_id\").agg({\"reference_price\":\"mean\",\"category\":\"count\"})\n",
    "df_marcablanca_dia_gb[\"reference_price\"].mean()"
   ]
  },
  {
   "cell_type": "code",
   "execution_count": 21,
   "id": "d97ac592",
   "metadata": {},
   "outputs": [],
   "source": [
    "comp_Leche_marcablanca= pd.DataFrame(\n",
    "{\"avg price Leche\" : [0.6648,0.6562,0.6703]}, \n",
    "index = [\"Mercadona\",\"Carrefour\",\"DIA\"])\n",
    "total = comp_Leche_marcablanca.sum(axis=1)"
   ]
  },
  {
   "cell_type": "code",
   "execution_count": 22,
   "id": "b04b995c",
   "metadata": {},
   "outputs": [
    {
     "data": {
      "text/plain": [
       "<BarContainer object of 3 artists>"
      ]
     },
     "execution_count": 22,
     "metadata": {},
     "output_type": "execute_result"
    },
    {
     "data": {
      "image/png": "[encoded data removed]",
      "text/plain": [
       "<Figure size 640x480 with 1 Axes>"
      ]
     },
     "metadata": {},
     "output_type": "display_data"
    }
   ],
   "source": [
    "plt.bar(total.index,total,color=[\"green\",\"blue\",\"red\"], label=\"avg price Aquarius\")"
   ]
  },
  {
   "cell_type": "markdown",
   "id": "f33105a3",
   "metadata": {},
   "source": [
    "### 2º Planteación\n",
    "\n",
    "* Nos hemos asegurado de que para esta segunda prueba solo se han seleccionado **bricks de 1L de Leche entera de la marca blanca correspondiente para los tres supermercados** a comparar (Mercadona,Aquarius y Dia). Tambien se ha comprobado que en los tres casos el número de veces que se repetían el mismo producto era muy parecido, entorno a 540 veces. También hemos comprobado que la fecha en la que se inserta esos productos son prácticamente idénticas ya que el precio del producto sube a medida que la fecha es mas reciente debido a la inflacción. \n",
    "\n",
    "* Como resultado tenemos que para un mismo producto la media del precio es: **Mercadona= 0.6648 Carrefour=0.6562 DIA=0.6703**. Mercadona se sitúa por debajo de DIA y por encima de Carrefour. En este caso **para alcanzar a su máximo competidor tendría que invertir mínimo un 1,30% del precio del producto** para alcanzar el precio ofertado por Carrefour."
   ]
  },
  {
   "cell_type": "markdown",
   "id": "0661515d",
   "metadata": {},
   "source": [
    "# Respuesta PREGUNTA 5\n",
    "\n",
    "### Justificación \n",
    "\n",
    "* Para comparar de una manera objetiva como ha afectado la inflacción a las distintas cadenas de supermercados se han escogido dos ejemplos representativos, 1 sobre un producto y formato común que se encuentra en los tres supermercados y el cual distribuidor es ajeno a los tres competidores a comparar, y otro sobre un producto y formato común pero que cada uno fabrica y distribuye de manera independiente.\n",
    "\n",
    "* Para la comparación de los precios de estos dos productos se ha tenido en cuenta el número de veces que aparecía repetido este producto y la fecha de insercción. En este caso la fecha de inserción es muy importante ya que la diferencia de precios entre la primera fecha y la última es muy grande a medida que avanza el tiempo. En este caso como la máxima fecha y la mínima fecha son iguales en los datasets de los tres supermercados y el número de veces que se repiten los productos son muy similares en los dos productos,se ha escogido la media para ver como han afrontado la inflación a lo largo de este periodo de súbida los tres supermercados. A parte se ofrecerá el dato de la diferencia del último registro para ambos productos.\n",
    "\n",
    "* Se intento comparar categorías completas para obtener otro punto de vista, en este caso, la carne de vacuno y la cerveza sin alcohol eran dos categorias que venían definidas prácticamente igual en los tres supermercados. Pero al analizar los datos estadísticos y mas en profundidad los datos de estas categorías en concreto, se llegó a la conclusión de que aunque fueran categorías parejas, la disparidad de los distintos productos dentro de estas categorías, ya fuese en calidad, formato y cantidad, hacía que una comparación no fuese objetiva, dando resultados dispares y que no reflejaban con precisión la diferencia de precios entre supermercados. Por ello la comparación de un producto exactamente igual con otro es la forma mas fidedigna de representar esta diferencia de precios\n",
    "\n",
    "\n",
    "\n",
    "### Respuesta\n",
    "\n",
    "* Como resultado tenemos que para la botella de Aquarius de 1,5l el precio es: **Mercadona= 1.1071 Carrefour=1.0876 DIA=1.2102**. Mercadona se sitúa por debajo de DIA y por encima de Carrefour. En este caso **para alcanzar a su máximo competidor tendría que invertir mínimo un 1,86% del precio del producto** para alcanzar el precio ofertado por Carrefour.En caso de cojamos la última fecha de inserción sería **Mercadona= 1.20 Carrefour=1.20 DIA=1.33** \n",
    "\n",
    "* Como resultado tenemos que para el brick de Leche entera marca blanca de 1l el precio es: **Mercadona= 0.6648 Carrefour=0.6562 DIA=0.6703**. Mercadona se sitúa por debajo de DIA y por encima de Carrefour. En este caso **para alcanzar a su máximo competidor tendría que invertir mínimo un 1,30% del precio del producto** para alcanzar el precio ofertado por Carrefour. En caso de cojamos la última fecha de inserción sería **Mercadona= 0.79 Carrefour=0.78 DIA=0.85**. Por lo que si cogemos este último precio como referencia **para alcanzar a su máximo competidor tendría que invertir mínimo un 1,27% del precio del producto**."
   ]
  },
  {
   "cell_type": "code",
   "execution_count": null,
   "id": "63c2d5e1",
   "metadata": {},
   "outputs": [],
   "source": []
  }
 ],
 "metadata": {
  "kernelspec": {
   "display_name": "Python 3 (ipykernel)",
   "language": "python",
   "name": "python3"
  },
  "language_info": {
   "codemirror_mode": {
    "name": "ipython",
    "version": 3
   },
   "file_extension": ".py",
   "mimetype": "text/x-python",
   "name": "python",
   "nbconvert_exporter": "python",
   "pygments_lexer": "ipython3",
   "version": "3.9.13"
  }
 },
 "nbformat": 4,
 "nbformat_minor": 5
}
