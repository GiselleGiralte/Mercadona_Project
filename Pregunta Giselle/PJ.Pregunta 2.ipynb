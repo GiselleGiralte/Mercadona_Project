{
 "cells": [
  {
   "cell_type": "markdown",
   "id": "c52aa81a",
   "metadata": {},
   "source": [
    "# Pregunta 2. ¿Cuál es la diferencia media de sus precios vs los precios de Carrefour y Dia?"
   ]
  },
  {
   "cell_type": "markdown",
   "id": "4ee92228",
   "metadata": {},
   "source": [
    "#### ▪️ Lo primero, tenemos que conocer el promedio de los precios de cada supermercado, conocer los NaN, outliers y tratarlos. \n",
    "\n",
    "#### ▪️ Luego, agruparemos por supermercado y evaluaremos los precios y los precios de referencia de cada uno para ver si tienen sentido."
   ]
  },
  {
   "cell_type": "code",
   "execution_count": 78,
   "id": "55f18424",
   "metadata": {},
   "outputs": [],
   "source": [
    "import pandas as pd\n",
    "import numpy as np\n",
    "import io\n",
    "pd.set_option('display.float_format', lambda x: '%.2f' % x) # truco para notación cientifica\n",
    "import seaborn as sns\n",
    "import matplotlib.pyplot as plt"
   ]
  },
  {
   "cell_type": "code",
   "execution_count": 79,
   "id": "6e4a9274",
   "metadata": {},
   "outputs": [],
   "source": [
    "rd = pd.read_csv('raw_data.csv')"
   ]
  },
  {
   "cell_type": "code",
   "execution_count": 80,
   "id": "bad0c625",
   "metadata": {},
   "outputs": [],
   "source": [
    "sc=pd.read_csv('Super_competitors .csv',header=0)"
   ]
  },
  {
   "cell_type": "code",
   "execution_count": 4,
   "id": "0e1327a8",
   "metadata": {},
   "outputs": [],
   "source": [
    "#📌📌📌📌📌📌📌📌  Imprimimos las bds para ver que formato tienen 📌📌📌📌📌📌📌📌"
   ]
  },
  {
   "cell_type": "code",
   "execution_count": 5,
   "id": "b52087d9",
   "metadata": {},
   "outputs": [
    {
     "data": {
      "text/html": [
       "<div>\n",
       "<style scoped>\n",
       "    .dataframe tbody tr th:only-of-type {\n",
       "        vertical-align: middle;\n",
       "    }\n",
       "\n",
       "    .dataframe tbody tr th {\n",
       "        vertical-align: top;\n",
       "    }\n",
       "\n",
       "    .dataframe thead th {\n",
       "        text-align: right;\n",
       "    }\n",
       "</style>\n",
       "<table border=\"1\" class=\"dataframe\">\n",
       "  <thead>\n",
       "    <tr style=\"text-align: right;\">\n",
       "      <th></th>\n",
       "      <th>category</th>\n",
       "      <th>name</th>\n",
       "      <th>description</th>\n",
       "      <th>price</th>\n",
       "      <th>reference_price</th>\n",
       "      <th>reference_unit</th>\n",
       "      <th>insert_date</th>\n",
       "      <th>product_id</th>\n",
       "      <th>id_reference_supermarket</th>\n",
       "    </tr>\n",
       "  </thead>\n",
       "  <tbody>\n",
       "    <tr>\n",
       "      <th>0</th>\n",
       "      <td>perfumeria_e_higiene_cuidado_facial_protector_...</td>\n",
       "      <td>LIPOSAN protector labial soft rose envase 1 ud</td>\n",
       "      <td>NaN</td>\n",
       "      <td>2.39</td>\n",
       "      <td>2.39</td>\n",
       "      <td>ud</td>\n",
       "      <td>2021-03-06 00:00:00</td>\n",
       "      <td>45d83ce427cf60c02e1e6f3d28f58ed6</td>\n",
       "      <td>M3</td>\n",
       "    </tr>\n",
       "    <tr>\n",
       "      <th>1</th>\n",
       "      <td>perfumeria_e_higiene_higiene_intima_compresas</td>\n",
       "      <td>AUSONIA compresas normal alas bolsa 14 uds</td>\n",
       "      <td>NaN</td>\n",
       "      <td>2.49</td>\n",
       "      <td>0.18</td>\n",
       "      <td>ud</td>\n",
       "      <td>2021-03-06 00:00:00</td>\n",
       "      <td>3fa10738dcbe5f09646eaf39a46a2871</td>\n",
       "      <td>M3</td>\n",
       "    </tr>\n",
       "    <tr>\n",
       "      <th>2</th>\n",
       "      <td>perfumeria_e_higiene_higiene_intima_compresas</td>\n",
       "      <td>EVAX Cottonlike compresa super plus con alas b...</td>\n",
       "      <td>NaN</td>\n",
       "      <td>2.79</td>\n",
       "      <td>0.23</td>\n",
       "      <td>ud</td>\n",
       "      <td>2021-03-06 00:00:00</td>\n",
       "      <td>5f5bc0a466375a16d01a6aed6c66e413</td>\n",
       "      <td>M3</td>\n",
       "    </tr>\n",
       "    <tr>\n",
       "      <th>3</th>\n",
       "      <td>perfumeria_e_higiene_higiene_bucal_productos_p...</td>\n",
       "      <td>POLIDENT tabletas limpiadoras para prótesis de...</td>\n",
       "      <td>NaN</td>\n",
       "      <td>7.95</td>\n",
       "      <td>0.11</td>\n",
       "      <td>ud</td>\n",
       "      <td>2021-03-06 00:00:00</td>\n",
       "      <td>0a1e56be01f8766d0bb87f3e42fd2abf</td>\n",
       "      <td>M3</td>\n",
       "    </tr>\n",
       "    <tr>\n",
       "      <th>4</th>\n",
       "      <td>perfumeria_e_higiene_higiene_bucal_productos_p...</td>\n",
       "      <td>IWHITE kit de blanquamiento dental profesional...</td>\n",
       "      <td>NaN</td>\n",
       "      <td>36.99</td>\n",
       "      <td>3.70</td>\n",
       "      <td>ud</td>\n",
       "      <td>2021-03-06 00:00:00</td>\n",
       "      <td>b150c5e27da5c91d13a5b570c9b3efd3</td>\n",
       "      <td>M3</td>\n",
       "    </tr>\n",
       "  </tbody>\n",
       "</table>\n",
       "</div>"
      ],
      "text/plain": [
       "                                            category  \\\n",
       "0  perfumeria_e_higiene_cuidado_facial_protector_...   \n",
       "1      perfumeria_e_higiene_higiene_intima_compresas   \n",
       "2      perfumeria_e_higiene_higiene_intima_compresas   \n",
       "3  perfumeria_e_higiene_higiene_bucal_productos_p...   \n",
       "4  perfumeria_e_higiene_higiene_bucal_productos_p...   \n",
       "\n",
       "                                                name description  price  \\\n",
       "0     LIPOSAN protector labial soft rose envase 1 ud         NaN   2.39   \n",
       "1         AUSONIA compresas normal alas bolsa 14 uds         NaN   2.49   \n",
       "2  EVAX Cottonlike compresa super plus con alas b...         NaN   2.79   \n",
       "3  POLIDENT tabletas limpiadoras para prótesis de...         NaN   7.95   \n",
       "4  IWHITE kit de blanquamiento dental profesional...         NaN  36.99   \n",
       "\n",
       "   reference_price reference_unit          insert_date  \\\n",
       "0             2.39             ud  2021-03-06 00:00:00   \n",
       "1             0.18             ud  2021-03-06 00:00:00   \n",
       "2             0.23             ud  2021-03-06 00:00:00   \n",
       "3             0.11             ud  2021-03-06 00:00:00   \n",
       "4             3.70             ud  2021-03-06 00:00:00   \n",
       "\n",
       "                         product_id id_reference_supermarket  \n",
       "0  45d83ce427cf60c02e1e6f3d28f58ed6                       M3  \n",
       "1  3fa10738dcbe5f09646eaf39a46a2871                       M3  \n",
       "2  5f5bc0a466375a16d01a6aed6c66e413                       M3  \n",
       "3  0a1e56be01f8766d0bb87f3e42fd2abf                       M3  \n",
       "4  b150c5e27da5c91d13a5b570c9b3efd3                       M3  "
      ]
     },
     "execution_count": 5,
     "metadata": {},
     "output_type": "execute_result"
    }
   ],
   "source": [
    "rd.head()"
   ]
  },
  {
   "cell_type": "code",
   "execution_count": 6,
   "id": "6e554bd1",
   "metadata": {},
   "outputs": [
    {
     "data": {
      "text/html": [
       "<div>\n",
       "<style scoped>\n",
       "    .dataframe tbody tr th:only-of-type {\n",
       "        vertical-align: middle;\n",
       "    }\n",
       "\n",
       "    .dataframe tbody tr th {\n",
       "        vertical-align: top;\n",
       "    }\n",
       "\n",
       "    .dataframe thead th {\n",
       "        text-align: right;\n",
       "    }\n",
       "</style>\n",
       "<table border=\"1\" class=\"dataframe\">\n",
       "  <thead>\n",
       "    <tr style=\"text-align: right;\">\n",
       "      <th></th>\n",
       "      <th>price</th>\n",
       "      <th>reference_price</th>\n",
       "    </tr>\n",
       "  </thead>\n",
       "  <tbody>\n",
       "    <tr>\n",
       "      <th>count</th>\n",
       "      <td>8223974.00</td>\n",
       "      <td>8223986.00</td>\n",
       "    </tr>\n",
       "    <tr>\n",
       "      <th>mean</th>\n",
       "      <td>4.75</td>\n",
       "      <td>19.35</td>\n",
       "    </tr>\n",
       "    <tr>\n",
       "      <th>std</th>\n",
       "      <td>48.90</td>\n",
       "      <td>626.79</td>\n",
       "    </tr>\n",
       "    <tr>\n",
       "      <th>min</th>\n",
       "      <td>0.08</td>\n",
       "      <td>0.00</td>\n",
       "    </tr>\n",
       "    <tr>\n",
       "      <th>25%</th>\n",
       "      <td>1.39</td>\n",
       "      <td>1.80</td>\n",
       "    </tr>\n",
       "    <tr>\n",
       "      <th>50%</th>\n",
       "      <td>2.20</td>\n",
       "      <td>4.56</td>\n",
       "    </tr>\n",
       "    <tr>\n",
       "      <th>75%</th>\n",
       "      <td>3.99</td>\n",
       "      <td>9.92</td>\n",
       "    </tr>\n",
       "    <tr>\n",
       "      <th>max</th>\n",
       "      <td>7915.05</td>\n",
       "      <td>163333.33</td>\n",
       "    </tr>\n",
       "  </tbody>\n",
       "</table>\n",
       "</div>"
      ],
      "text/plain": [
       "           price  reference_price\n",
       "count 8223974.00       8223986.00\n",
       "mean        4.75            19.35\n",
       "std        48.90           626.79\n",
       "min         0.08             0.00\n",
       "25%         1.39             1.80\n",
       "50%         2.20             4.56\n",
       "75%         3.99             9.92\n",
       "max      7915.05        163333.33"
      ]
     },
     "execution_count": 6,
     "metadata": {},
     "output_type": "execute_result"
    }
   ],
   "source": [
    "rd.describe()"
   ]
  },
  {
   "cell_type": "code",
   "execution_count": 7,
   "id": "5a4ae57e",
   "metadata": {},
   "outputs": [
    {
     "data": {
      "text/html": [
       "<div>\n",
       "<style scoped>\n",
       "    .dataframe tbody tr th:only-of-type {\n",
       "        vertical-align: middle;\n",
       "    }\n",
       "\n",
       "    .dataframe tbody tr th {\n",
       "        vertical-align: top;\n",
       "    }\n",
       "\n",
       "    .dataframe thead th {\n",
       "        text-align: right;\n",
       "    }\n",
       "</style>\n",
       "<table border=\"1\" class=\"dataframe\">\n",
       "  <thead>\n",
       "    <tr style=\"text-align: right;\">\n",
       "      <th></th>\n",
       "      <th>ID</th>\n",
       "      <th>Name</th>\n",
       "    </tr>\n",
       "  </thead>\n",
       "  <tbody>\n",
       "    <tr>\n",
       "      <th>0</th>\n",
       "      <td>M1</td>\n",
       "      <td>Mercadona</td>\n",
       "    </tr>\n",
       "    <tr>\n",
       "      <th>1</th>\n",
       "      <td>M2</td>\n",
       "      <td>Carrefour</td>\n",
       "    </tr>\n",
       "    <tr>\n",
       "      <th>2</th>\n",
       "      <td>M3</td>\n",
       "      <td>Dia</td>\n",
       "    </tr>\n",
       "  </tbody>\n",
       "</table>\n",
       "</div>"
      ],
      "text/plain": [
       "   ID       Name\n",
       "0  M1  Mercadona\n",
       "1  M2  Carrefour\n",
       "2  M3        Dia"
      ]
     },
     "execution_count": 7,
     "metadata": {},
     "output_type": "execute_result"
    }
   ],
   "source": [
    "sc.head(5)"
   ]
  },
  {
   "cell_type": "code",
   "execution_count": 8,
   "id": "cbf4d78f",
   "metadata": {},
   "outputs": [],
   "source": [
    "#📌📌📌📌📌📌📌📌  Imprimimos las bds para ver que Tipo tienen📌📌📌📌📌📌📌📌"
   ]
  },
  {
   "cell_type": "code",
   "execution_count": 9,
   "id": "43df83b5",
   "metadata": {},
   "outputs": [
    {
     "name": "stdout",
     "output_type": "stream",
     "text": [
      "<class 'pandas.core.frame.DataFrame'>\n",
      "RangeIndex: 8223992 entries, 0 to 8223991\n",
      "Data columns (total 9 columns):\n",
      " #   Column                    Dtype  \n",
      "---  ------                    -----  \n",
      " 0   category                  object \n",
      " 1   name                      object \n",
      " 2   description               object \n",
      " 3   price                     float64\n",
      " 4   reference_price           float64\n",
      " 5   reference_unit            object \n",
      " 6   insert_date               object \n",
      " 7   product_id                object \n",
      " 8   id_reference_supermarket  object \n",
      "dtypes: float64(2), object(7)\n",
      "memory usage: 564.7+ MB\n"
     ]
    }
   ],
   "source": [
    "rd.info()"
   ]
  },
  {
   "cell_type": "code",
   "execution_count": 10,
   "id": "836c31a9",
   "metadata": {},
   "outputs": [],
   "source": [
    "#📌📌📌📌📌📌📌📌  Cambiamos el formato de las fechas OBJECT--> DATE 📌📌📌📌📌📌📌📌"
   ]
  },
  {
   "cell_type": "code",
   "execution_count": 11,
   "id": "12b3cb95",
   "metadata": {},
   "outputs": [],
   "source": [
    "#⚡⚡⚡ Para la bd \"rd\" ⚡⚡⚡"
   ]
  },
  {
   "cell_type": "code",
   "execution_count": 12,
   "id": "e5f4c6ac",
   "metadata": {},
   "outputs": [],
   "source": [
    "rd['insert_date'] = pd.to_datetime(rd['insert_date'], errors='coerce')"
   ]
  },
  {
   "cell_type": "code",
   "execution_count": 13,
   "id": "47d8b476",
   "metadata": {},
   "outputs": [
    {
     "name": "stdout",
     "output_type": "stream",
     "text": [
      "<class 'pandas.core.frame.DataFrame'>\n",
      "RangeIndex: 8223992 entries, 0 to 8223991\n",
      "Data columns (total 9 columns):\n",
      " #   Column                    Dtype         \n",
      "---  ------                    -----         \n",
      " 0   category                  object        \n",
      " 1   name                      object        \n",
      " 2   description               object        \n",
      " 3   price                     float64       \n",
      " 4   reference_price           float64       \n",
      " 5   reference_unit            object        \n",
      " 6   insert_date               datetime64[ns]\n",
      " 7   product_id                object        \n",
      " 8   id_reference_supermarket  object        \n",
      "dtypes: datetime64[ns](1), float64(2), object(6)\n",
      "memory usage: 564.7+ MB\n"
     ]
    }
   ],
   "source": [
    "rd.info()"
   ]
  },
  {
   "cell_type": "code",
   "execution_count": 14,
   "id": "c41a4830",
   "metadata": {},
   "outputs": [],
   "source": [
    "#📌📌📌📌📌📌📌📌 Verificamos si hay NaN en el Data Frame 📌📌📌📌📌📌📌📌"
   ]
  },
  {
   "cell_type": "code",
   "execution_count": 15,
   "id": "7f4dd596",
   "metadata": {},
   "outputs": [
    {
     "data": {
      "text/plain": [
       "True"
      ]
     },
     "execution_count": 15,
     "metadata": {},
     "output_type": "execute_result"
    }
   ],
   "source": [
    "rd.isnull().values.any()"
   ]
  },
  {
   "cell_type": "code",
   "execution_count": 16,
   "id": "4600ac0c",
   "metadata": {},
   "outputs": [],
   "source": [
    "#⚡⚡⚡¿Cuántos valores NaN hay en el data frame rd?⚡⚡⚡"
   ]
  },
  {
   "cell_type": "code",
   "execution_count": 17,
   "id": "a8ee49fe",
   "metadata": {},
   "outputs": [
    {
     "data": {
      "text/plain": [
       "category                          0\n",
       "name                             98\n",
       "description                 5201517\n",
       "price                            18\n",
       "reference_price                   6\n",
       "reference_unit                 5480\n",
       "insert_date                       0\n",
       "product_id                        0\n",
       "id_reference_supermarket          0\n",
       "dtype: int64"
      ]
     },
     "execution_count": 17,
     "metadata": {},
     "output_type": "execute_result"
    }
   ],
   "source": [
    "rd.isnull().sum() "
   ]
  },
  {
   "cell_type": "code",
   "execution_count": 18,
   "id": "692811d8",
   "metadata": {},
   "outputs": [
    {
     "name": "stdout",
     "output_type": "stream",
     "text": [
      "['Limón a granel 1 Kg aprox', 'DIA margarina ligera barqueta 500 gr', 'BISCUITS GALICIA mini magdalenas con mantequilla bolsa 180 gr', 'DIA SELECCIÓN MUNDIAL tortiglioni paquete 500 gr', 'DIA margarina ligera barqueta 500 gr', 'DIA SELECCIÓN MUNDIAL tortiglioni paquete 500 gr', 'BISCUITS GALICIA mini magdalenas con mantequilla bolsa 180 gr', \"Ginebra Gordon's 1 l.\", 'Whisky Jameson irlandés 70 cl.', 'Whisky Jameson irlandés 70 cl.', 'Whisky Jameson irlandés 70 cl.', 'Whisky Jameson irlandés 70 cl.', 'Whisky Jameson irlandés 70 cl.', 'Whisky Jameson irlandés 70 cl.', 'Whisky Jameson irlandés 70 cl.', 'Whisky Jameson irlandés 70 cl.', 'Whisky Jameson irlandés 70 cl.', 'Whisky Jameson irlandés 70 cl.']\n"
     ]
    }
   ],
   "source": [
    " NaN_price= rd[rd['price'].isna()]  #vemos los 18 articulos que no tienen precio\n",
    " print([i for i in NaN_price[\"name\"]])"
   ]
  },
  {
   "cell_type": "code",
   "execution_count": 19,
   "id": "5cb711a2",
   "metadata": {},
   "outputs": [
    {
     "name": "stdout",
     "output_type": "stream",
     "text": [
      "['DIA margarina ligera barqueta 500 gr', 'BISCUITS GALICIA mini magdalenas con mantequilla bolsa 180 gr', 'DIA SELECCIÓN MUNDIAL tortiglioni paquete 500 gr', 'DIA margarina ligera barqueta 500 gr', 'DIA SELECCIÓN MUNDIAL tortiglioni paquete 500 gr', 'BISCUITS GALICIA mini magdalenas con mantequilla bolsa 180 gr']\n"
     ]
    }
   ],
   "source": [
    "NaN_rp= rd[rd['reference_price'].isna()]    #vemos los 6 articulos que no tienen reference_price\n",
    "print([i for i in NaN_rp[\"name\"]])"
   ]
  },
  {
   "cell_type": "markdown",
   "id": "98c61a0b",
   "metadata": {},
   "source": [
    "# Conclusión de los valores NaN\n",
    " A pesar de que hay valores NaN , para los datos que necesitamos, (precios, reference_price) en función a la proporción de la base datos que cuenta con 8.223.992 registros **ESTOS VALORES NO TENDRÁN GRAN IMPACTO EN NUESTRO ANÁLISIS** "
   ]
  },
  {
   "cell_type": "code",
   "execution_count": 20,
   "id": "cb557ff8",
   "metadata": {},
   "outputs": [
    {
     "data": {
      "text/plain": [
       "id_reference_supermarket\n",
       "M1    3329440\n",
       "M2    1693583\n",
       "M3    3200969\n",
       "dtype: int64"
      ]
     },
     "execution_count": 20,
     "metadata": {},
     "output_type": "execute_result"
    }
   ],
   "source": [
    "#📌📌📌📌📌📌📌📌cuántas filas diferentes hay disponibles en cada grupo📌📌📌📌📌📌📌📌\n",
    "\n",
    "rd.groupby(\"id_reference_supermarket\").size()"
   ]
  },
  {
   "cell_type": "code",
   "execution_count": 21,
   "id": "c68ae0d8",
   "metadata": {},
   "outputs": [
    {
     "data": {
      "text/html": [
       "<div>\n",
       "<style scoped>\n",
       "    .dataframe tbody tr th:only-of-type {\n",
       "        vertical-align: middle;\n",
       "    }\n",
       "\n",
       "    .dataframe tbody tr th {\n",
       "        vertical-align: top;\n",
       "    }\n",
       "\n",
       "    .dataframe thead th {\n",
       "        text-align: right;\n",
       "    }\n",
       "</style>\n",
       "<table border=\"1\" class=\"dataframe\">\n",
       "  <thead>\n",
       "    <tr style=\"text-align: right;\">\n",
       "      <th></th>\n",
       "      <th>category</th>\n",
       "      <th>name</th>\n",
       "      <th>description</th>\n",
       "      <th>price</th>\n",
       "      <th>reference_price</th>\n",
       "      <th>reference_unit</th>\n",
       "      <th>insert_date</th>\n",
       "      <th>product_id</th>\n",
       "      <th>id_reference_supermarket</th>\n",
       "    </tr>\n",
       "  </thead>\n",
       "  <tbody>\n",
       "    <tr>\n",
       "      <th>1055</th>\n",
       "      <td>agua_y_refrescos_isotonico_y_energetico</td>\n",
       "      <td>Bebida para deportistas sabor cítrico Hacendado</td>\n",
       "      <td>Botella</td>\n",
       "      <td>0.85</td>\n",
       "      <td>0.57</td>\n",
       "      <td>l</td>\n",
       "      <td>2021-03-06</td>\n",
       "      <td>cc6af45cd819ddd9c69c7a574b840e29</td>\n",
       "      <td>M1</td>\n",
       "    </tr>\n",
       "    <tr>\n",
       "      <th>1056</th>\n",
       "      <td>agua_y_refrescos_isotonico_y_energetico</td>\n",
       "      <td>Bebida para deportistas sabor cítrico Hacendado</td>\n",
       "      <td>Pack-6</td>\n",
       "      <td>1.92</td>\n",
       "      <td>0.97</td>\n",
       "      <td>l</td>\n",
       "      <td>2021-03-06</td>\n",
       "      <td>f6a62a8c304a0e818f869aa2ea02df8a</td>\n",
       "      <td>M1</td>\n",
       "    </tr>\n",
       "    <tr>\n",
       "      <th>1057</th>\n",
       "      <td>agua_y_refrescos_isotonico_y_energetico</td>\n",
       "      <td>Bebida para deportistas sabor cítrico Hacendado</td>\n",
       "      <td>Lata</td>\n",
       "      <td>0.32</td>\n",
       "      <td>0.97</td>\n",
       "      <td>l</td>\n",
       "      <td>2021-03-06</td>\n",
       "      <td>90361e7447fa2d5d4ea757b57d4e6a64</td>\n",
       "      <td>M1</td>\n",
       "    </tr>\n",
       "  </tbody>\n",
       "</table>\n",
       "</div>"
      ],
      "text/plain": [
       "                                     category  \\\n",
       "1055  agua_y_refrescos_isotonico_y_energetico   \n",
       "1056  agua_y_refrescos_isotonico_y_energetico   \n",
       "1057  agua_y_refrescos_isotonico_y_energetico   \n",
       "\n",
       "                                                 name description  price  \\\n",
       "1055  Bebida para deportistas sabor cítrico Hacendado     Botella   0.85   \n",
       "1056  Bebida para deportistas sabor cítrico Hacendado      Pack-6   1.92   \n",
       "1057  Bebida para deportistas sabor cítrico Hacendado        Lata   0.32   \n",
       "\n",
       "      reference_price reference_unit insert_date  \\\n",
       "1055             0.57              l  2021-03-06   \n",
       "1056             0.97              l  2021-03-06   \n",
       "1057             0.97              l  2021-03-06   \n",
       "\n",
       "                            product_id id_reference_supermarket  \n",
       "1055  cc6af45cd819ddd9c69c7a574b840e29                       M1  \n",
       "1056  f6a62a8c304a0e818f869aa2ea02df8a                       M1  \n",
       "1057  90361e7447fa2d5d4ea757b57d4e6a64                       M1  "
      ]
     },
     "execution_count": 21,
     "metadata": {},
     "output_type": "execute_result"
    }
   ],
   "source": [
    "rd_filtro_m= rd[(rd[\"id_reference_supermarket\"] == \"M1\")]     #filtro por mercadona\n",
    "rd_filtro_m.head(3)"
   ]
  },
  {
   "cell_type": "code",
   "execution_count": 22,
   "id": "a85a9a3c",
   "metadata": {},
   "outputs": [
    {
     "data": {
      "text/html": [
       "<div>\n",
       "<style scoped>\n",
       "    .dataframe tbody tr th:only-of-type {\n",
       "        vertical-align: middle;\n",
       "    }\n",
       "\n",
       "    .dataframe tbody tr th {\n",
       "        vertical-align: top;\n",
       "    }\n",
       "\n",
       "    .dataframe thead th {\n",
       "        text-align: right;\n",
       "    }\n",
       "</style>\n",
       "<table border=\"1\" class=\"dataframe\">\n",
       "  <thead>\n",
       "    <tr style=\"text-align: right;\">\n",
       "      <th></th>\n",
       "      <th>category</th>\n",
       "      <th>name</th>\n",
       "      <th>description</th>\n",
       "      <th>price</th>\n",
       "      <th>reference_price</th>\n",
       "      <th>reference_unit</th>\n",
       "      <th>insert_date</th>\n",
       "      <th>product_id</th>\n",
       "      <th>id_reference_supermarket</th>\n",
       "    </tr>\n",
       "  </thead>\n",
       "  <tbody>\n",
       "    <tr>\n",
       "      <th>2053</th>\n",
       "      <td>bebidas_vinos_rosado</td>\n",
       "      <td>Muga Rosado 2019</td>\n",
       "      <td>NaN</td>\n",
       "      <td>9.15</td>\n",
       "      <td>9.15</td>\n",
       "      <td>ud</td>\n",
       "      <td>2021-03-06</td>\n",
       "      <td>4a9bb57a9ebbad18dff028c702d70c0e</td>\n",
       "      <td>M2</td>\n",
       "    </tr>\n",
       "    <tr>\n",
       "      <th>2054</th>\n",
       "      <td>bebidas_vinos_blanco</td>\n",
       "      <td>Blanc Pescador Espumoso Blanco</td>\n",
       "      <td>NaN</td>\n",
       "      <td>3.99</td>\n",
       "      <td>3.99</td>\n",
       "      <td>ud</td>\n",
       "      <td>2021-03-06</td>\n",
       "      <td>e2edfbb48927c755131eab0016995453</td>\n",
       "      <td>M2</td>\n",
       "    </tr>\n",
       "    <tr>\n",
       "      <th>2055</th>\n",
       "      <td>bebidas_alcoholes_ron</td>\n",
       "      <td>Ron Brugal añejo superior 70 cl.</td>\n",
       "      <td>NaN</td>\n",
       "      <td>13.80</td>\n",
       "      <td>19.71</td>\n",
       "      <td>l</td>\n",
       "      <td>2021-03-06</td>\n",
       "      <td>e86bfe04af8fdab975a3ac9a86276e3f</td>\n",
       "      <td>M2</td>\n",
       "    </tr>\n",
       "  </tbody>\n",
       "</table>\n",
       "</div>"
      ],
      "text/plain": [
       "                   category                              name description  \\\n",
       "2053   bebidas_vinos_rosado                  Muga Rosado 2019         NaN   \n",
       "2054   bebidas_vinos_blanco    Blanc Pescador Espumoso Blanco         NaN   \n",
       "2055  bebidas_alcoholes_ron  Ron Brugal añejo superior 70 cl.         NaN   \n",
       "\n",
       "      price  reference_price reference_unit insert_date  \\\n",
       "2053   9.15             9.15             ud  2021-03-06   \n",
       "2054   3.99             3.99             ud  2021-03-06   \n",
       "2055  13.80            19.71              l  2021-03-06   \n",
       "\n",
       "                            product_id id_reference_supermarket  \n",
       "2053  4a9bb57a9ebbad18dff028c702d70c0e                       M2  \n",
       "2054  e2edfbb48927c755131eab0016995453                       M2  \n",
       "2055  e86bfe04af8fdab975a3ac9a86276e3f                       M2  "
      ]
     },
     "execution_count": 22,
     "metadata": {},
     "output_type": "execute_result"
    }
   ],
   "source": [
    "rd_filtro_c= rd[(rd[\"id_reference_supermarket\"] == \"M2\")]   #filtro por carrefour\n",
    "rd_filtro_c.head(3)"
   ]
  },
  {
   "cell_type": "code",
   "execution_count": 23,
   "id": "a49d2384",
   "metadata": {},
   "outputs": [
    {
     "data": {
      "text/html": [
       "<div>\n",
       "<style scoped>\n",
       "    .dataframe tbody tr th:only-of-type {\n",
       "        vertical-align: middle;\n",
       "    }\n",
       "\n",
       "    .dataframe tbody tr th {\n",
       "        vertical-align: top;\n",
       "    }\n",
       "\n",
       "    .dataframe thead th {\n",
       "        text-align: right;\n",
       "    }\n",
       "</style>\n",
       "<table border=\"1\" class=\"dataframe\">\n",
       "  <thead>\n",
       "    <tr style=\"text-align: right;\">\n",
       "      <th></th>\n",
       "      <th>category</th>\n",
       "      <th>name</th>\n",
       "      <th>description</th>\n",
       "      <th>price</th>\n",
       "      <th>reference_price</th>\n",
       "      <th>reference_unit</th>\n",
       "      <th>insert_date</th>\n",
       "      <th>product_id</th>\n",
       "      <th>id_reference_supermarket</th>\n",
       "    </tr>\n",
       "  </thead>\n",
       "  <tbody>\n",
       "    <tr>\n",
       "      <th>0</th>\n",
       "      <td>perfumeria_e_higiene_cuidado_facial_protector_...</td>\n",
       "      <td>LIPOSAN protector labial soft rose envase 1 ud</td>\n",
       "      <td>NaN</td>\n",
       "      <td>2.39</td>\n",
       "      <td>2.39</td>\n",
       "      <td>ud</td>\n",
       "      <td>2021-03-06</td>\n",
       "      <td>45d83ce427cf60c02e1e6f3d28f58ed6</td>\n",
       "      <td>M3</td>\n",
       "    </tr>\n",
       "    <tr>\n",
       "      <th>1</th>\n",
       "      <td>perfumeria_e_higiene_higiene_intima_compresas</td>\n",
       "      <td>AUSONIA compresas normal alas bolsa 14 uds</td>\n",
       "      <td>NaN</td>\n",
       "      <td>2.49</td>\n",
       "      <td>0.18</td>\n",
       "      <td>ud</td>\n",
       "      <td>2021-03-06</td>\n",
       "      <td>3fa10738dcbe5f09646eaf39a46a2871</td>\n",
       "      <td>M3</td>\n",
       "    </tr>\n",
       "    <tr>\n",
       "      <th>2</th>\n",
       "      <td>perfumeria_e_higiene_higiene_intima_compresas</td>\n",
       "      <td>EVAX Cottonlike compresa super plus con alas b...</td>\n",
       "      <td>NaN</td>\n",
       "      <td>2.79</td>\n",
       "      <td>0.23</td>\n",
       "      <td>ud</td>\n",
       "      <td>2021-03-06</td>\n",
       "      <td>5f5bc0a466375a16d01a6aed6c66e413</td>\n",
       "      <td>M3</td>\n",
       "    </tr>\n",
       "  </tbody>\n",
       "</table>\n",
       "</div>"
      ],
      "text/plain": [
       "                                            category  \\\n",
       "0  perfumeria_e_higiene_cuidado_facial_protector_...   \n",
       "1      perfumeria_e_higiene_higiene_intima_compresas   \n",
       "2      perfumeria_e_higiene_higiene_intima_compresas   \n",
       "\n",
       "                                                name description  price  \\\n",
       "0     LIPOSAN protector labial soft rose envase 1 ud         NaN   2.39   \n",
       "1         AUSONIA compresas normal alas bolsa 14 uds         NaN   2.49   \n",
       "2  EVAX Cottonlike compresa super plus con alas b...         NaN   2.79   \n",
       "\n",
       "   reference_price reference_unit insert_date  \\\n",
       "0             2.39             ud  2021-03-06   \n",
       "1             0.18             ud  2021-03-06   \n",
       "2             0.23             ud  2021-03-06   \n",
       "\n",
       "                         product_id id_reference_supermarket  \n",
       "0  45d83ce427cf60c02e1e6f3d28f58ed6                       M3  \n",
       "1  3fa10738dcbe5f09646eaf39a46a2871                       M3  \n",
       "2  5f5bc0a466375a16d01a6aed6c66e413                       M3  "
      ]
     },
     "execution_count": 23,
     "metadata": {},
     "output_type": "execute_result"
    }
   ],
   "source": [
    "rd_filtro_d= rd[(rd[\"id_reference_supermarket\"] == \"M3\")]   #filtro por dia\n",
    "rd_filtro_d.head(3)"
   ]
  },
  {
   "cell_type": "code",
   "execution_count": 24,
   "id": "ca013e8e",
   "metadata": {},
   "outputs": [
    {
     "data": {
      "text/html": [
       "<div>\n",
       "<style scoped>\n",
       "    .dataframe tbody tr th:only-of-type {\n",
       "        vertical-align: middle;\n",
       "    }\n",
       "\n",
       "    .dataframe tbody tr th {\n",
       "        vertical-align: top;\n",
       "    }\n",
       "\n",
       "    .dataframe thead th {\n",
       "        text-align: right;\n",
       "    }\n",
       "</style>\n",
       "<table border=\"1\" class=\"dataframe\">\n",
       "  <thead>\n",
       "    <tr style=\"text-align: right;\">\n",
       "      <th></th>\n",
       "      <th>category</th>\n",
       "      <th>name</th>\n",
       "      <th>description</th>\n",
       "      <th>price</th>\n",
       "      <th>reference_price</th>\n",
       "      <th>reference_unit</th>\n",
       "      <th>insert_date</th>\n",
       "      <th>product_id</th>\n",
       "      <th>id_reference_supermarket</th>\n",
       "    </tr>\n",
       "  </thead>\n",
       "  <tbody>\n",
       "    <tr>\n",
       "      <th>5654822</th>\n",
       "      <td>aceite_especias_y_salsas_especias</td>\n",
       "      <td>Azafrán hebra Hacendado</td>\n",
       "      <td>Paquete</td>\n",
       "      <td>1.75</td>\n",
       "      <td>472.97</td>\n",
       "      <td>100g</td>\n",
       "      <td>2022-03-18</td>\n",
       "      <td>1db0aed2d8e3f844521ff0282c12e9bc</td>\n",
       "      <td>M1</td>\n",
       "    </tr>\n",
       "    <tr>\n",
       "      <th>6251550</th>\n",
       "      <td>aceite_especias_y_salsas_especias</td>\n",
       "      <td>Azafrán hebra Hacendado</td>\n",
       "      <td>Paquete</td>\n",
       "      <td>1.75</td>\n",
       "      <td>472.97</td>\n",
       "      <td>100g</td>\n",
       "      <td>2022-04-28</td>\n",
       "      <td>1db0aed2d8e3f844521ff0282c12e9bc</td>\n",
       "      <td>M1</td>\n",
       "    </tr>\n",
       "  </tbody>\n",
       "</table>\n",
       "</div>"
      ],
      "text/plain": [
       "                                  category                     name  \\\n",
       "5654822  aceite_especias_y_salsas_especias  Azafrán hebra Hacendado   \n",
       "6251550  aceite_especias_y_salsas_especias  Azafrán hebra Hacendado   \n",
       "\n",
       "        description  price  reference_price reference_unit insert_date  \\\n",
       "5654822     Paquete   1.75           472.97           100g  2022-03-18   \n",
       "6251550     Paquete   1.75           472.97           100g  2022-04-28   \n",
       "\n",
       "                               product_id id_reference_supermarket  \n",
       "5654822  1db0aed2d8e3f844521ff0282c12e9bc                       M1  \n",
       "6251550  1db0aed2d8e3f844521ff0282c12e9bc                       M1  "
      ]
     },
     "metadata": {},
     "output_type": "display_data"
    },
    {
     "data": {
      "text/html": [
       "<div>\n",
       "<style scoped>\n",
       "    .dataframe tbody tr th:only-of-type {\n",
       "        vertical-align: middle;\n",
       "    }\n",
       "\n",
       "    .dataframe tbody tr th {\n",
       "        vertical-align: top;\n",
       "    }\n",
       "\n",
       "    .dataframe thead th {\n",
       "        text-align: right;\n",
       "    }\n",
       "</style>\n",
       "<table border=\"1\" class=\"dataframe\">\n",
       "  <thead>\n",
       "    <tr style=\"text-align: right;\">\n",
       "      <th></th>\n",
       "      <th>category</th>\n",
       "      <th>name</th>\n",
       "      <th>description</th>\n",
       "      <th>price</th>\n",
       "      <th>reference_price</th>\n",
       "      <th>reference_unit</th>\n",
       "      <th>insert_date</th>\n",
       "      <th>product_id</th>\n",
       "      <th>id_reference_supermarket</th>\n",
       "    </tr>\n",
       "  </thead>\n",
       "  <tbody>\n",
       "    <tr>\n",
       "      <th>364649</th>\n",
       "      <td>limpieza_y_hogar_menaje_ollas_cazos_y_accesorios</td>\n",
       "      <td>Batería Acero Inoxidable MASTERPRO Triply 6 pzas</td>\n",
       "      <td>NaN</td>\n",
       "      <td>140.00</td>\n",
       "      <td>140000.00</td>\n",
       "      <td>ud</td>\n",
       "      <td>2021-03-24</td>\n",
       "      <td>c39e65836c869cc8f3a43e944d19a4ed</td>\n",
       "      <td>M2</td>\n",
       "    </tr>\n",
       "    <tr>\n",
       "      <th>324597</th>\n",
       "      <td>limpieza_y_hogar_menaje_ollas_cazos_y_accesorios</td>\n",
       "      <td>Batería Acero Inoxidable MASTERPRO Triply 6 pzas</td>\n",
       "      <td>NaN</td>\n",
       "      <td>140.00</td>\n",
       "      <td>140000.00</td>\n",
       "      <td>ud</td>\n",
       "      <td>2021-03-22</td>\n",
       "      <td>c39e65836c869cc8f3a43e944d19a4ed</td>\n",
       "      <td>M2</td>\n",
       "    </tr>\n",
       "  </tbody>\n",
       "</table>\n",
       "</div>"
      ],
      "text/plain": [
       "                                                category  \\\n",
       "364649  limpieza_y_hogar_menaje_ollas_cazos_y_accesorios   \n",
       "324597  limpieza_y_hogar_menaje_ollas_cazos_y_accesorios   \n",
       "\n",
       "                                                    name description  price  \\\n",
       "364649  Batería Acero Inoxidable MASTERPRO Triply 6 pzas         NaN 140.00   \n",
       "324597  Batería Acero Inoxidable MASTERPRO Triply 6 pzas         NaN 140.00   \n",
       "\n",
       "        reference_price reference_unit insert_date  \\\n",
       "364649        140000.00             ud  2021-03-24   \n",
       "324597        140000.00             ud  2021-03-22   \n",
       "\n",
       "                              product_id id_reference_supermarket  \n",
       "364649  c39e65836c869cc8f3a43e944d19a4ed                       M2  \n",
       "324597  c39e65836c869cc8f3a43e944d19a4ed                       M2  "
      ]
     },
     "metadata": {},
     "output_type": "display_data"
    },
    {
     "data": {
      "text/html": [
       "<div>\n",
       "<style scoped>\n",
       "    .dataframe tbody tr th:only-of-type {\n",
       "        vertical-align: middle;\n",
       "    }\n",
       "\n",
       "    .dataframe tbody tr th {\n",
       "        vertical-align: top;\n",
       "    }\n",
       "\n",
       "    .dataframe thead th {\n",
       "        text-align: right;\n",
       "    }\n",
       "</style>\n",
       "<table border=\"1\" class=\"dataframe\">\n",
       "  <thead>\n",
       "    <tr style=\"text-align: right;\">\n",
       "      <th></th>\n",
       "      <th>category</th>\n",
       "      <th>name</th>\n",
       "      <th>description</th>\n",
       "      <th>price</th>\n",
       "      <th>reference_price</th>\n",
       "      <th>reference_unit</th>\n",
       "      <th>insert_date</th>\n",
       "      <th>product_id</th>\n",
       "      <th>id_reference_supermarket</th>\n",
       "    </tr>\n",
       "  </thead>\n",
       "  <tbody>\n",
       "    <tr>\n",
       "      <th>2504733</th>\n",
       "      <td>cuidado_personal_bano_e_higiene_personal_colonias</td>\n",
       "      <td>TITTO BLUNI pack uomo colonia 75 ml + desodora...</td>\n",
       "      <td>NaN</td>\n",
       "      <td>12.25</td>\n",
       "      <td>163333.33</td>\n",
       "      <td>NaN</td>\n",
       "      <td>2021-08-12</td>\n",
       "      <td>f3a85cfa00a29b3c55016fb4a90aae4e</td>\n",
       "      <td>M3</td>\n",
       "    </tr>\n",
       "    <tr>\n",
       "      <th>3080601</th>\n",
       "      <td>cuidado_personal_bano_e_higiene_personal_colonias</td>\n",
       "      <td>TITTO BLUNI pack uomo colonia 75 ml + desodora...</td>\n",
       "      <td>NaN</td>\n",
       "      <td>12.25</td>\n",
       "      <td>163333.33</td>\n",
       "      <td>NaN</td>\n",
       "      <td>2021-09-22</td>\n",
       "      <td>f3a85cfa00a29b3c55016fb4a90aae4e</td>\n",
       "      <td>M3</td>\n",
       "    </tr>\n",
       "  </tbody>\n",
       "</table>\n",
       "</div>"
      ],
      "text/plain": [
       "                                                  category  \\\n",
       "2504733  cuidado_personal_bano_e_higiene_personal_colonias   \n",
       "3080601  cuidado_personal_bano_e_higiene_personal_colonias   \n",
       "\n",
       "                                                      name description  price  \\\n",
       "2504733  TITTO BLUNI pack uomo colonia 75 ml + desodora...         NaN  12.25   \n",
       "3080601  TITTO BLUNI pack uomo colonia 75 ml + desodora...         NaN  12.25   \n",
       "\n",
       "         reference_price reference_unit insert_date  \\\n",
       "2504733        163333.33            NaN  2021-08-12   \n",
       "3080601        163333.33            NaN  2021-09-22   \n",
       "\n",
       "                               product_id id_reference_supermarket  \n",
       "2504733  f3a85cfa00a29b3c55016fb4a90aae4e                       M3  \n",
       "3080601  f3a85cfa00a29b3c55016fb4a90aae4e                       M3  "
      ]
     },
     "metadata": {},
     "output_type": "display_data"
    }
   ],
   "source": [
    "#📌📌📌📌📌📌📌📌observamos por precio_referencia 📌📌📌📌📌📌📌📌\n",
    "display(rd_filtro_m.sort_values(by=\"reference_price\",ascending=False).head(2))\n",
    "display(rd_filtro_c.sort_values(by=\"reference_price\",ascending=False).head(2))\n",
    "display(rd_filtro_d.sort_values(by=\"reference_price\",ascending=False).head(2))"
   ]
  },
  {
   "cell_type": "code",
   "execution_count": 25,
   "id": "e5868341",
   "metadata": {
    "scrolled": true
   },
   "outputs": [
    {
     "data": {
      "text/html": [
       "<div>\n",
       "<style scoped>\n",
       "    .dataframe tbody tr th:only-of-type {\n",
       "        vertical-align: middle;\n",
       "    }\n",
       "\n",
       "    .dataframe tbody tr th {\n",
       "        vertical-align: top;\n",
       "    }\n",
       "\n",
       "    .dataframe thead th {\n",
       "        text-align: right;\n",
       "    }\n",
       "</style>\n",
       "<table border=\"1\" class=\"dataframe\">\n",
       "  <thead>\n",
       "    <tr style=\"text-align: right;\">\n",
       "      <th></th>\n",
       "      <th>category</th>\n",
       "      <th>name</th>\n",
       "      <th>description</th>\n",
       "      <th>price</th>\n",
       "      <th>reference_price</th>\n",
       "      <th>reference_unit</th>\n",
       "      <th>insert_date</th>\n",
       "      <th>product_id</th>\n",
       "      <th>id_reference_supermarket</th>\n",
       "    </tr>\n",
       "  </thead>\n",
       "  <tbody>\n",
       "    <tr>\n",
       "      <th>2602298</th>\n",
       "      <td>congelados_marisco</td>\n",
       "      <td>Carabinero congelado</td>\n",
       "      <td>Granel</td>\n",
       "      <td>7915.05</td>\n",
       "      <td>79.95</td>\n",
       "      <td>kg</td>\n",
       "      <td>2021-08-19</td>\n",
       "      <td>aa8de147e283c68f9b81ba55ef8bab49</td>\n",
       "      <td>M1</td>\n",
       "    </tr>\n",
       "    <tr>\n",
       "      <th>2685674</th>\n",
       "      <td>congelados_marisco</td>\n",
       "      <td>Carabinero congelado</td>\n",
       "      <td>Granel</td>\n",
       "      <td>7915.05</td>\n",
       "      <td>79.95</td>\n",
       "      <td>kg</td>\n",
       "      <td>2021-08-25</td>\n",
       "      <td>aa8de147e283c68f9b81ba55ef8bab49</td>\n",
       "      <td>M1</td>\n",
       "    </tr>\n",
       "  </tbody>\n",
       "</table>\n",
       "</div>"
      ],
      "text/plain": [
       "                   category                  name description   price  \\\n",
       "2602298  congelados_marisco  Carabinero congelado      Granel 7915.05   \n",
       "2685674  congelados_marisco  Carabinero congelado      Granel 7915.05   \n",
       "\n",
       "         reference_price reference_unit insert_date  \\\n",
       "2602298            79.95             kg  2021-08-19   \n",
       "2685674            79.95             kg  2021-08-25   \n",
       "\n",
       "                               product_id id_reference_supermarket  \n",
       "2602298  aa8de147e283c68f9b81ba55ef8bab49                       M1  \n",
       "2685674  aa8de147e283c68f9b81ba55ef8bab49                       M1  "
      ]
     },
     "metadata": {},
     "output_type": "display_data"
    },
    {
     "data": {
      "text/html": [
       "<div>\n",
       "<style scoped>\n",
       "    .dataframe tbody tr th:only-of-type {\n",
       "        vertical-align: middle;\n",
       "    }\n",
       "\n",
       "    .dataframe tbody tr th {\n",
       "        vertical-align: top;\n",
       "    }\n",
       "\n",
       "    .dataframe thead th {\n",
       "        text-align: right;\n",
       "    }\n",
       "</style>\n",
       "<table border=\"1\" class=\"dataframe\">\n",
       "  <thead>\n",
       "    <tr style=\"text-align: right;\">\n",
       "      <th></th>\n",
       "      <th>category</th>\n",
       "      <th>name</th>\n",
       "      <th>description</th>\n",
       "      <th>price</th>\n",
       "      <th>reference_price</th>\n",
       "      <th>reference_unit</th>\n",
       "      <th>insert_date</th>\n",
       "      <th>product_id</th>\n",
       "      <th>id_reference_supermarket</th>\n",
       "    </tr>\n",
       "  </thead>\n",
       "  <tbody>\n",
       "    <tr>\n",
       "      <th>5114445</th>\n",
       "      <td>limpieza_y_hogar_bazar_barbacoas_y_accesorios</td>\n",
       "      <td>Barbacoa de Pellets - 130x55x120 Cm / 54 kg</td>\n",
       "      <td>NaN</td>\n",
       "      <td>595.00</td>\n",
       "      <td>595.00</td>\n",
       "      <td>ud</td>\n",
       "      <td>2022-02-09</td>\n",
       "      <td>07a4e9178ceb42cb5be73b99d19433ac</td>\n",
       "      <td>M2</td>\n",
       "    </tr>\n",
       "    <tr>\n",
       "      <th>5138241</th>\n",
       "      <td>limpieza_y_hogar_bazar_barbacoas_y_accesorios</td>\n",
       "      <td>Barbacoa Vertical con Chimena y Ladrillos Refr...</td>\n",
       "      <td>NaN</td>\n",
       "      <td>459.00</td>\n",
       "      <td>459.00</td>\n",
       "      <td>ud</td>\n",
       "      <td>2022-02-10</td>\n",
       "      <td>1fb6af387252cfee9a15c6e29a518d9f</td>\n",
       "      <td>M2</td>\n",
       "    </tr>\n",
       "  </tbody>\n",
       "</table>\n",
       "</div>"
      ],
      "text/plain": [
       "                                              category  \\\n",
       "5114445  limpieza_y_hogar_bazar_barbacoas_y_accesorios   \n",
       "5138241  limpieza_y_hogar_bazar_barbacoas_y_accesorios   \n",
       "\n",
       "                                                      name description  price  \\\n",
       "5114445        Barbacoa de Pellets - 130x55x120 Cm / 54 kg         NaN 595.00   \n",
       "5138241  Barbacoa Vertical con Chimena y Ladrillos Refr...         NaN 459.00   \n",
       "\n",
       "         reference_price reference_unit insert_date  \\\n",
       "5114445           595.00             ud  2022-02-09   \n",
       "5138241           459.00             ud  2022-02-10   \n",
       "\n",
       "                               product_id id_reference_supermarket  \n",
       "5114445  07a4e9178ceb42cb5be73b99d19433ac                       M2  \n",
       "5138241  1fb6af387252cfee9a15c6e29a518d9f                       M2  "
      ]
     },
     "metadata": {},
     "output_type": "display_data"
    },
    {
     "data": {
      "text/html": [
       "<div>\n",
       "<style scoped>\n",
       "    .dataframe tbody tr th:only-of-type {\n",
       "        vertical-align: middle;\n",
       "    }\n",
       "\n",
       "    .dataframe tbody tr th {\n",
       "        vertical-align: top;\n",
       "    }\n",
       "\n",
       "    .dataframe thead th {\n",
       "        text-align: right;\n",
       "    }\n",
       "</style>\n",
       "<table border=\"1\" class=\"dataframe\">\n",
       "  <thead>\n",
       "    <tr style=\"text-align: right;\">\n",
       "      <th></th>\n",
       "      <th>category</th>\n",
       "      <th>name</th>\n",
       "      <th>description</th>\n",
       "      <th>price</th>\n",
       "      <th>reference_price</th>\n",
       "      <th>reference_unit</th>\n",
       "      <th>insert_date</th>\n",
       "      <th>product_id</th>\n",
       "      <th>id_reference_supermarket</th>\n",
       "    </tr>\n",
       "  </thead>\n",
       "  <tbody>\n",
       "    <tr>\n",
       "      <th>4282833</th>\n",
       "      <td>frescos_charcuteria_y_quesos_curados</td>\n",
       "      <td>NOBLEZA EXTREMEÑA jamón de bellota 100% Ibéric...</td>\n",
       "      <td>NaN</td>\n",
       "      <td>289.00</td>\n",
       "      <td>38.53</td>\n",
       "      <td>kg</td>\n",
       "      <td>2021-12-14</td>\n",
       "      <td>4c51d734b50c903bc2130e9ab8f5875d</td>\n",
       "      <td>M3</td>\n",
       "    </tr>\n",
       "    <tr>\n",
       "      <th>6303060</th>\n",
       "      <td>frescos_charcuteria_y_quesos_curados</td>\n",
       "      <td>NOBLEZA EXTREMEÑA jamón de bellota 100% ibéric...</td>\n",
       "      <td>NaN</td>\n",
       "      <td>289.00</td>\n",
       "      <td>38.53</td>\n",
       "      <td>kg</td>\n",
       "      <td>2022-05-02</td>\n",
       "      <td>4c51d734b50c903bc2130e9ab8f5875d</td>\n",
       "      <td>M3</td>\n",
       "    </tr>\n",
       "  </tbody>\n",
       "</table>\n",
       "</div>"
      ],
      "text/plain": [
       "                                     category  \\\n",
       "4282833  frescos_charcuteria_y_quesos_curados   \n",
       "6303060  frescos_charcuteria_y_quesos_curados   \n",
       "\n",
       "                                                      name description  price  \\\n",
       "4282833  NOBLEZA EXTREMEÑA jamón de bellota 100% Ibéric...         NaN 289.00   \n",
       "6303060  NOBLEZA EXTREMEÑA jamón de bellota 100% ibéric...         NaN 289.00   \n",
       "\n",
       "         reference_price reference_unit insert_date  \\\n",
       "4282833            38.53             kg  2021-12-14   \n",
       "6303060            38.53             kg  2022-05-02   \n",
       "\n",
       "                               product_id id_reference_supermarket  \n",
       "4282833  4c51d734b50c903bc2130e9ab8f5875d                       M3  \n",
       "6303060  4c51d734b50c903bc2130e9ab8f5875d                       M3  "
      ]
     },
     "metadata": {},
     "output_type": "display_data"
    }
   ],
   "source": [
    "#📌📌📌📌📌📌📌📌observamos por precio📌📌📌📌📌📌📌📌\n",
    "display(rd_filtro_m.sort_values(by=\"price\",ascending=False).head(2)) #MERCADONA\n",
    "display(rd_filtro_c.sort_values(by=\"price\",ascending=False).head(2)) #CARREFOUR\n",
    "display(rd_filtro_d.sort_values(by=\"price\",ascending=False).head(2)) #DIA"
   ]
  },
  {
   "cell_type": "markdown",
   "id": "352122b8",
   "metadata": {},
   "source": [
    "# Observación de los Precios vs Precios de Referencia \n",
    "\n",
    "* Podemos ver que hay algunos errores en los precios de referencia y los precios en algunos productos de los 3 supermercados, observamos que al ordenar los valores de forma ascendente por ambos precios, vemos que estos son bastante elevados. Ejemplo el precio del **Carabinero congelado en el Mercadona = 7915.05€** y el precio de referencia de **Azafrán hebra Hacendado =472.97€** también del Mercadona. Lo observaremos mejor con los gráficos de dispersión.\n",
    " \n",
    "* Filtraremos las bases de datos excluyendo las ventas a granel, agrupamos por supermercado y precio tomando en cuenta el precio, que es el que mas coherencia tiene, y de esta manera observaremos como se comportan nuevamente las métricas y los gráficos de dispersión.\n",
    "\n"
   ]
  },
  {
   "cell_type": "code",
   "execution_count": 26,
   "id": "9a4d7eb7",
   "metadata": {},
   "outputs": [
    {
     "data": {
      "image/png": "[encoded data removed]",
      "text/plain": [
       "<Figure size 1000x1000 with 3 Axes>"
      ]
     },
     "metadata": {},
     "output_type": "display_data"
    }
   ],
   "source": [
    "fig, ax=plt.subplots(3,figsize=(10,10))\n",
    "\n",
    "ax[0].scatter(x =rd_filtro_m['price'],y=rd_filtro_m['reference_price'],color='m',marker=\".\")\n",
    "ax[0].set_xlabel(\"reference_price\")\n",
    "ax[0].set_ylabel(\"price\")\n",
    "plt.title(\"mercadona\")\n",
    "plt.\n",
    "\n",
    "ax[1].scatter(x =rd_filtro_c['price'],y=rd_filtro_c['reference_price'],color='c',marker=\".\")\n",
    "ax[1].set_xlabel(\"reference_price\")\n",
    "ax[1].set_ylabel(\"price\")\n",
    "\n",
    "\n",
    "ax[2].scatter(x= rd_filtro_d['price'],y=rd_filtro_d['reference_price'],color='y',marker=\".\")\n",
    "ax[2].set_xlabel(\"reference_price\")\n",
    "ax[2].set_ylabel(\"price\")\n",
    "\n",
    "\n",
    "\n",
    "plt.show()"
   ]
  },
  {
   "cell_type": "markdown",
   "id": "f33fa563",
   "metadata": {},
   "source": [
    "## EXCLUIMOS LAS VENTAS A GRANEL DEL MERCADONA PARA TENER LAS METRICAS MAS COHERENTES"
   ]
  },
  {
   "cell_type": "code",
   "execution_count": 27,
   "id": "9d4197ab",
   "metadata": {},
   "outputs": [
    {
     "name": "stderr",
     "output_type": "stream",
     "text": [
      "C:\\Users\\gisel\\AppData\\Local\\Temp\\ipykernel_4124\\278422766.py:4: SettingWithCopyWarning: \n",
      "A value is trying to be set on a copy of a slice from a DataFrame\n",
      "\n",
      "See the caveats in the documentation: https://pandas.pydata.org/pandas-docs/stable/user_guide/indexing.html#returning-a-view-versus-a-copy\n",
      "  granel_m.sort_values(by=\"price\",ascending=False, inplace=True)\n"
     ]
    }
   ],
   "source": [
    "\n",
    "\n",
    "granel_m = rd_filtro_m[rd_filtro_m[\"description\"]!=\"Granel\"]\n",
    "granel_m.sort_values(by=\"price\",ascending=False, inplace=True)"
   ]
  },
  {
   "cell_type": "code",
   "execution_count": 69,
   "id": "697499f1",
   "metadata": {},
   "outputs": [
    {
     "data": {
      "text/html": [
       "<div>\n",
       "<style scoped>\n",
       "    .dataframe tbody tr th:only-of-type {\n",
       "        vertical-align: middle;\n",
       "    }\n",
       "\n",
       "    .dataframe tbody tr th {\n",
       "        vertical-align: top;\n",
       "    }\n",
       "\n",
       "    .dataframe thead th {\n",
       "        text-align: right;\n",
       "    }\n",
       "</style>\n",
       "<table border=\"1\" class=\"dataframe\">\n",
       "  <thead>\n",
       "    <tr style=\"text-align: right;\">\n",
       "      <th></th>\n",
       "      <th>category</th>\n",
       "      <th>name</th>\n",
       "      <th>description</th>\n",
       "      <th>price</th>\n",
       "      <th>reference_price</th>\n",
       "      <th>reference_unit</th>\n",
       "      <th>insert_date</th>\n",
       "      <th>product_id</th>\n",
       "      <th>id_reference_supermarket</th>\n",
       "    </tr>\n",
       "  </thead>\n",
       "  <tbody>\n",
       "    <tr>\n",
       "      <th>6987749</th>\n",
       "      <td>charcuteria_y_quesos_jamon_serrano</td>\n",
       "      <td>Jamón de bellota ibérico 100% Campo Extremadura</td>\n",
       "      <td>Pieza</td>\n",
       "      <td>479.75</td>\n",
       "      <td>50.50</td>\n",
       "      <td>kg</td>\n",
       "      <td>2022-06-18</td>\n",
       "      <td>cedbc2de52a22b98dc25f28f37770b16</td>\n",
       "      <td>M1</td>\n",
       "    </tr>\n",
       "    <tr>\n",
       "      <th>7634023</th>\n",
       "      <td>charcuteria_y_quesos_jamon_serrano</td>\n",
       "      <td>Jamón de bellota ibérico 100% Campo Extremadura</td>\n",
       "      <td>Pieza</td>\n",
       "      <td>479.75</td>\n",
       "      <td>50.50</td>\n",
       "      <td>kg</td>\n",
       "      <td>2022-08-04</td>\n",
       "      <td>cedbc2de52a22b98dc25f28f37770b16</td>\n",
       "      <td>M1</td>\n",
       "    </tr>\n",
       "    <tr>\n",
       "      <th>7489243</th>\n",
       "      <td>charcuteria_y_quesos_jamon_serrano</td>\n",
       "      <td>Jamón de bellota ibérico 100% Campo Extremadura</td>\n",
       "      <td>Pieza</td>\n",
       "      <td>479.75</td>\n",
       "      <td>50.50</td>\n",
       "      <td>kg</td>\n",
       "      <td>2022-07-24</td>\n",
       "      <td>cedbc2de52a22b98dc25f28f37770b16</td>\n",
       "      <td>M1</td>\n",
       "    </tr>\n",
       "  </tbody>\n",
       "</table>\n",
       "</div>"
      ],
      "text/plain": [
       "                                   category  \\\n",
       "6987749  charcuteria_y_quesos_jamon_serrano   \n",
       "7634023  charcuteria_y_quesos_jamon_serrano   \n",
       "7489243  charcuteria_y_quesos_jamon_serrano   \n",
       "\n",
       "                                                    name description  price  \\\n",
       "6987749  Jamón de bellota ibérico 100% Campo Extremadura       Pieza 479.75   \n",
       "7634023  Jamón de bellota ibérico 100% Campo Extremadura       Pieza 479.75   \n",
       "7489243  Jamón de bellota ibérico 100% Campo Extremadura       Pieza 479.75   \n",
       "\n",
       "         reference_price reference_unit insert_date  \\\n",
       "6987749            50.50             kg  2022-06-18   \n",
       "7634023            50.50             kg  2022-08-04   \n",
       "7489243            50.50             kg  2022-07-24   \n",
       "\n",
       "                               product_id id_reference_supermarket  \n",
       "6987749  cedbc2de52a22b98dc25f28f37770b16                       M1  \n",
       "7634023  cedbc2de52a22b98dc25f28f37770b16                       M1  \n",
       "7489243  cedbc2de52a22b98dc25f28f37770b16                       M1  "
      ]
     },
     "execution_count": 69,
     "metadata": {},
     "output_type": "execute_result"
    }
   ],
   "source": [
    "granel_m.head(3)"
   ]
  },
  {
   "cell_type": "code",
   "execution_count": 29,
   "id": "e9b71eeb",
   "metadata": {},
   "outputs": [],
   "source": [
    "#📌📌📌📌📌Agrupamos por supermercado y precio tomando en cuenta el precio que es el que mas coherencia tiene📌📌📌📌📌"
   ]
  },
  {
   "cell_type": "code",
   "execution_count": 29,
   "id": "0f6b6d92",
   "metadata": {},
   "outputs": [
    {
     "data": {
      "text/plain": [
       "<pandas.core.groupby.generic.SeriesGroupBy object at 0x0000017C4F24BF40>"
      ]
     },
     "execution_count": 29,
     "metadata": {},
     "output_type": "execute_result"
    }
   ],
   "source": [
    "agrupar = granel_m.groupby('id_reference_supermarket')['price']\n",
    "agrupar"
   ]
  },
  {
   "cell_type": "code",
   "execution_count": 30,
   "id": "f02f48ef",
   "metadata": {},
   "outputs": [
    {
     "data": {
      "text/plain": [
       "id_reference_supermarket\n",
       "M1   3.21\n",
       "Name: price, dtype: float64"
      ]
     },
     "execution_count": 30,
     "metadata": {},
     "output_type": "execute_result"
    }
   ],
   "source": [
    "agrupar.mean()# Media de Mercadona sin ventas a granel    \n"
   ]
  },
  {
   "cell_type": "code",
   "execution_count": 31,
   "id": "b918d940",
   "metadata": {},
   "outputs": [
    {
     "data": {
      "text/plain": [
       "id_reference_supermarket\n",
       "M1   1.99\n",
       "Name: price, dtype: float64"
      ]
     },
     "execution_count": 31,
     "metadata": {},
     "output_type": "execute_result"
    }
   ],
   "source": [
    "agrupar.median() # Mediana de Mercadona sin ventas a granel"
   ]
  },
  {
   "cell_type": "markdown",
   "id": "5ae0c362",
   "metadata": {},
   "source": [
    "# Métricas con ventas a granel\n",
    "\n",
    "### La media de los precios para MERCADONA es:  5.91\n",
    "### La media de los precios para CARREFOUR es:  5.02\n",
    "### La media de los precios para DIA es:        3.41\n",
    "............................................................................................................................\n",
    "### La mediana de los precios para MERCADONA es:  1.99\n",
    "### La mediana de los precios para CARREFOUR es:  2.79\n",
    "### La mediana de los precios para DIA es:        2.29\n",
    "\n",
    "........................................................................................................................\n",
    "## Observación sobre las métricas\n",
    "* La media de los precios para Mercadona **CONTANDO** los productos con ventas a granel es de **5.91€**\n",
    "\n",
    "* La media de los precios para Mercadona **SIN CONTAR** los productos con ventas a granel es de **3.21€**\n",
    "\n",
    "* Sin embargo la mediana se mantiene igual para ambos casos, esto es debido a que la mediana excluye los outliers\n",
    "\n",
    "* En los gráficos de dispersión también se observa los valores atípicos tanto en el Precio como el Precio de Referencia que observamos en los Dataframe. \n",
    "\n",
    "Esta diferencia se debe a que los precios de venta a granel son muy elevados, por ejemplo en el caso del **Jamón de bellota ibérico 100% Campo Extremadura**  de Mercadona que tiene un precio de **479.75€ LA PIEZA,** el consumidor suele comprar pequeñas cantidades en gramos,no es habitual que alguien compre una pieza completa de Jamón."
   ]
  },
  {
   "cell_type": "markdown",
   "id": "51c62172",
   "metadata": {},
   "source": [
    "## FILTRADO POR PRECIO Y PRECIO REFERENCIA DE CARREFOUR Y DIA\n",
    " Para tener una comparativa con las mismas condiciones de las de Mercadona, se debe filtrar los productos con ventas a granel y obtener la media y mediana de Carrefour y DIA"
   ]
  },
  {
   "cell_type": "code",
   "execution_count": 35,
   "id": "531555f0",
   "metadata": {},
   "outputs": [],
   "source": [
    "#📍CARREFOUR\n",
    "granel_c = rd_filtro_c[rd_filtro_c[\"description\"]!=\"Granel\"]\n",
    "granel_c.sort_values(by=\"price\",ascending=False, inplace=True)"
   ]
  },
  {
   "cell_type": "code",
   "execution_count": 36,
   "id": "cab971f8",
   "metadata": {},
   "outputs": [
    {
     "data": {
      "text/html": [
       "<div>\n",
       "<style scoped>\n",
       "    .dataframe tbody tr th:only-of-type {\n",
       "        vertical-align: middle;\n",
       "    }\n",
       "\n",
       "    .dataframe tbody tr th {\n",
       "        vertical-align: top;\n",
       "    }\n",
       "\n",
       "    .dataframe thead th {\n",
       "        text-align: right;\n",
       "    }\n",
       "</style>\n",
       "<table border=\"1\" class=\"dataframe\">\n",
       "  <thead>\n",
       "    <tr style=\"text-align: right;\">\n",
       "      <th></th>\n",
       "      <th>category</th>\n",
       "      <th>name</th>\n",
       "      <th>description</th>\n",
       "      <th>price</th>\n",
       "      <th>reference_price</th>\n",
       "      <th>reference_unit</th>\n",
       "      <th>insert_date</th>\n",
       "      <th>product_id</th>\n",
       "      <th>id_reference_supermarket</th>\n",
       "    </tr>\n",
       "  </thead>\n",
       "  <tbody>\n",
       "    <tr>\n",
       "      <th>5114445</th>\n",
       "      <td>limpieza_y_hogar_bazar_barbacoas_y_accesorios</td>\n",
       "      <td>Barbacoa de Pellets - 130x55x120 Cm / 54 kg</td>\n",
       "      <td>NaN</td>\n",
       "      <td>595.00</td>\n",
       "      <td>595.00</td>\n",
       "      <td>ud</td>\n",
       "      <td>2022-02-09</td>\n",
       "      <td>07a4e9178ceb42cb5be73b99d19433ac</td>\n",
       "      <td>M2</td>\n",
       "    </tr>\n",
       "    <tr>\n",
       "      <th>5138241</th>\n",
       "      <td>limpieza_y_hogar_bazar_barbacoas_y_accesorios</td>\n",
       "      <td>Barbacoa Vertical con Chimena y Ladrillos Refr...</td>\n",
       "      <td>NaN</td>\n",
       "      <td>459.00</td>\n",
       "      <td>459.00</td>\n",
       "      <td>ud</td>\n",
       "      <td>2022-02-10</td>\n",
       "      <td>1fb6af387252cfee9a15c6e29a518d9f</td>\n",
       "      <td>M2</td>\n",
       "    </tr>\n",
       "    <tr>\n",
       "      <th>8191313</th>\n",
       "      <td>productos_frescos_charcuteria_jamon_serrano_e_...</td>\n",
       "      <td>Jamón de bellota ibérico 100% raza ibérica pie...</td>\n",
       "      <td>NaN</td>\n",
       "      <td>409.00</td>\n",
       "      <td>62.92</td>\n",
       "      <td>kg</td>\n",
       "      <td>2022-09-13</td>\n",
       "      <td>474f6f2fb3f25764a4f24b05bd480ce1</td>\n",
       "      <td>M2</td>\n",
       "    </tr>\n",
       "  </tbody>\n",
       "</table>\n",
       "</div>"
      ],
      "text/plain": [
       "                                                  category  \\\n",
       "5114445      limpieza_y_hogar_bazar_barbacoas_y_accesorios   \n",
       "5138241      limpieza_y_hogar_bazar_barbacoas_y_accesorios   \n",
       "8191313  productos_frescos_charcuteria_jamon_serrano_e_...   \n",
       "\n",
       "                                                      name description  price  \\\n",
       "5114445        Barbacoa de Pellets - 130x55x120 Cm / 54 kg         NaN 595.00   \n",
       "5138241  Barbacoa Vertical con Chimena y Ladrillos Refr...         NaN 459.00   \n",
       "8191313  Jamón de bellota ibérico 100% raza ibérica pie...         NaN 409.00   \n",
       "\n",
       "         reference_price reference_unit insert_date  \\\n",
       "5114445           595.00             ud  2022-02-09   \n",
       "5138241           459.00             ud  2022-02-10   \n",
       "8191313            62.92             kg  2022-09-13   \n",
       "\n",
       "                               product_id id_reference_supermarket  \n",
       "5114445  07a4e9178ceb42cb5be73b99d19433ac                       M2  \n",
       "5138241  1fb6af387252cfee9a15c6e29a518d9f                       M2  \n",
       "8191313  474f6f2fb3f25764a4f24b05bd480ce1                       M2  "
      ]
     },
     "execution_count": 36,
     "metadata": {},
     "output_type": "execute_result"
    }
   ],
   "source": [
    "granel_c.head(3)"
   ]
  },
  {
   "cell_type": "code",
   "execution_count": 37,
   "id": "a7d6c7a7",
   "metadata": {},
   "outputs": [
    {
     "data": {
      "text/plain": [
       "<pandas.core.groupby.generic.SeriesGroupBy object at 0x0000017C4FC2C5B0>"
      ]
     },
     "execution_count": 37,
     "metadata": {},
     "output_type": "execute_result"
    }
   ],
   "source": [
    "agrupar2 = granel_c.groupby('id_reference_supermarket')['price']\n",
    "agrupar2"
   ]
  },
  {
   "cell_type": "code",
   "execution_count": 38,
   "id": "236d0885",
   "metadata": {},
   "outputs": [
    {
     "data": {
      "text/plain": [
       "id_reference_supermarket\n",
       "M2   5.02\n",
       "Name: price, dtype: float64"
      ]
     },
     "execution_count": 38,
     "metadata": {},
     "output_type": "execute_result"
    }
   ],
   "source": [
    "agrupar2.mean()"
   ]
  },
  {
   "cell_type": "code",
   "execution_count": 39,
   "id": "42846f22",
   "metadata": {},
   "outputs": [
    {
     "data": {
      "text/plain": [
       "id_reference_supermarket\n",
       "M2   2.79\n",
       "Name: price, dtype: float64"
      ]
     },
     "execution_count": 39,
     "metadata": {},
     "output_type": "execute_result"
    }
   ],
   "source": [
    "agrupar2.median()"
   ]
  },
  {
   "cell_type": "code",
   "execution_count": 40,
   "id": "4754b34e",
   "metadata": {},
   "outputs": [],
   "source": [
    "#📍 DIA\n",
    "granel_d = rd_filtro_d[rd_filtro_d[\"description\"]!=\"Granel\"]\n",
    "granel_d.sort_values(by=\"price\",ascending=False, inplace=True)"
   ]
  },
  {
   "cell_type": "code",
   "execution_count": 41,
   "id": "c0a16996",
   "metadata": {},
   "outputs": [
    {
     "data": {
      "text/html": [
       "<div>\n",
       "<style scoped>\n",
       "    .dataframe tbody tr th:only-of-type {\n",
       "        vertical-align: middle;\n",
       "    }\n",
       "\n",
       "    .dataframe tbody tr th {\n",
       "        vertical-align: top;\n",
       "    }\n",
       "\n",
       "    .dataframe thead th {\n",
       "        text-align: right;\n",
       "    }\n",
       "</style>\n",
       "<table border=\"1\" class=\"dataframe\">\n",
       "  <thead>\n",
       "    <tr style=\"text-align: right;\">\n",
       "      <th></th>\n",
       "      <th>category</th>\n",
       "      <th>name</th>\n",
       "      <th>description</th>\n",
       "      <th>price</th>\n",
       "      <th>reference_price</th>\n",
       "      <th>reference_unit</th>\n",
       "      <th>insert_date</th>\n",
       "      <th>product_id</th>\n",
       "      <th>id_reference_supermarket</th>\n",
       "    </tr>\n",
       "  </thead>\n",
       "  <tbody>\n",
       "    <tr>\n",
       "      <th>4282833</th>\n",
       "      <td>frescos_charcuteria_y_quesos_curados</td>\n",
       "      <td>NOBLEZA EXTREMEÑA jamón de bellota 100% Ibéric...</td>\n",
       "      <td>NaN</td>\n",
       "      <td>289.00</td>\n",
       "      <td>38.53</td>\n",
       "      <td>kg</td>\n",
       "      <td>2021-12-14</td>\n",
       "      <td>4c51d734b50c903bc2130e9ab8f5875d</td>\n",
       "      <td>M3</td>\n",
       "    </tr>\n",
       "    <tr>\n",
       "      <th>6303060</th>\n",
       "      <td>frescos_charcuteria_y_quesos_curados</td>\n",
       "      <td>NOBLEZA EXTREMEÑA jamón de bellota 100% ibéric...</td>\n",
       "      <td>NaN</td>\n",
       "      <td>289.00</td>\n",
       "      <td>38.53</td>\n",
       "      <td>kg</td>\n",
       "      <td>2022-05-02</td>\n",
       "      <td>4c51d734b50c903bc2130e9ab8f5875d</td>\n",
       "      <td>M3</td>\n",
       "    </tr>\n",
       "    <tr>\n",
       "      <th>5105945</th>\n",
       "      <td>frescos_charcuteria_y_quesos_curados</td>\n",
       "      <td>NOBLEZA EXTREMEÑA jamón de bellota 100% Ibéric...</td>\n",
       "      <td>NaN</td>\n",
       "      <td>289.00</td>\n",
       "      <td>38.53</td>\n",
       "      <td>kg</td>\n",
       "      <td>2022-02-08</td>\n",
       "      <td>4c51d734b50c903bc2130e9ab8f5875d</td>\n",
       "      <td>M3</td>\n",
       "    </tr>\n",
       "  </tbody>\n",
       "</table>\n",
       "</div>"
      ],
      "text/plain": [
       "                                     category  \\\n",
       "4282833  frescos_charcuteria_y_quesos_curados   \n",
       "6303060  frescos_charcuteria_y_quesos_curados   \n",
       "5105945  frescos_charcuteria_y_quesos_curados   \n",
       "\n",
       "                                                      name description  price  \\\n",
       "4282833  NOBLEZA EXTREMEÑA jamón de bellota 100% Ibéric...         NaN 289.00   \n",
       "6303060  NOBLEZA EXTREMEÑA jamón de bellota 100% ibéric...         NaN 289.00   \n",
       "5105945  NOBLEZA EXTREMEÑA jamón de bellota 100% Ibéric...         NaN 289.00   \n",
       "\n",
       "         reference_price reference_unit insert_date  \\\n",
       "4282833            38.53             kg  2021-12-14   \n",
       "6303060            38.53             kg  2022-05-02   \n",
       "5105945            38.53             kg  2022-02-08   \n",
       "\n",
       "                               product_id id_reference_supermarket  \n",
       "4282833  4c51d734b50c903bc2130e9ab8f5875d                       M3  \n",
       "6303060  4c51d734b50c903bc2130e9ab8f5875d                       M3  \n",
       "5105945  4c51d734b50c903bc2130e9ab8f5875d                       M3  "
      ]
     },
     "execution_count": 41,
     "metadata": {},
     "output_type": "execute_result"
    }
   ],
   "source": [
    "granel_d.head(3)"
   ]
  },
  {
   "cell_type": "code",
   "execution_count": 46,
   "id": "884b5182",
   "metadata": {},
   "outputs": [
    {
     "data": {
      "text/plain": [
       "<pandas.core.groupby.generic.SeriesGroupBy object at 0x0000017C4FC57910>"
      ]
     },
     "execution_count": 46,
     "metadata": {},
     "output_type": "execute_result"
    }
   ],
   "source": [
    "agrupar3 = granel_d.groupby('id_reference_supermarket')['price']\n",
    "agrupar3"
   ]
  },
  {
   "cell_type": "code",
   "execution_count": 47,
   "id": "0ac09922",
   "metadata": {},
   "outputs": [
    {
     "data": {
      "text/plain": [
       "id_reference_supermarket\n",
       "M3   3.41\n",
       "Name: price, dtype: float64"
      ]
     },
     "execution_count": 47,
     "metadata": {},
     "output_type": "execute_result"
    }
   ],
   "source": [
    "agrupar3.mean()"
   ]
  },
  {
   "cell_type": "code",
   "execution_count": 48,
   "id": "9277ed8e",
   "metadata": {},
   "outputs": [
    {
     "data": {
      "text/plain": [
       "id_reference_supermarket\n",
       "M3   2.29\n",
       "Name: price, dtype: float64"
      ]
     },
     "execution_count": 48,
     "metadata": {},
     "output_type": "execute_result"
    }
   ],
   "source": [
    "agrupar3.median()"
   ]
  },
  {
   "cell_type": "code",
   "execution_count": 72,
   "id": "df55a6de",
   "metadata": {},
   "outputs": [
    {
     "data": {
      "text/plain": [
       "<BarContainer object of 3 artists>"
      ]
     },
     "execution_count": 72,
     "metadata": {},
     "output_type": "execute_result"
    },
    {
     "data": {
      "image/png": "[encoded data removed]",
      "text/plain": [
       "<Figure size 640x480 with 1 Axes>"
      ]
     },
     "metadata": {},
     "output_type": "display_data"
    }
   ],
   "source": [
    "Media_con_granel= pd.DataFrame({\"Media\" : [5.91,5.02,3.41]},\n",
    "index = [\"Mercadona\",\"Carrefour\",\"DIA\"])\n",
    "total = Media_con_granel.sum(axis=1)\n",
    "plt.title(\"Promedio CON ventas a granel\")\n",
    "plt.bar (total.index,total,color=[\"green\",\"yellow\",\"red\"], label=\"media_sin_granel\")"
   ]
  },
  {
   "cell_type": "code",
   "execution_count": 1,
   "id": "6f0152c7",
   "metadata": {},
   "outputs": [
    {
     "ename": "NameError",
     "evalue": "name 'pd' is not defined",
     "output_type": "error",
     "traceback": [
      "\u001b[1;31m---------------------------------------------------------------------------\u001b[0m",
      "\u001b[1;31mNameError\u001b[0m                                 Traceback (most recent call last)",
      "\u001b[1;32m~\\AppData\\Local\\Temp\\ipykernel_10460\\3143437525.py\u001b[0m in \u001b[0;36m<module>\u001b[1;34m\u001b[0m\n\u001b[1;32m----> 1\u001b[1;33m Media_sin_granel= pd.DataFrame({\"Media Mercadona\" : [5.02,3.41,3.21]},\n\u001b[0m\u001b[0;32m      2\u001b[0m index = [\"Carrefour\",\"DIA\",\"Mercadona\"])\n\u001b[0;32m      3\u001b[0m \u001b[0mtotal\u001b[0m\u001b[1;33m=\u001b[0m \u001b[0mMedia_sin_granel\u001b[0m\u001b[1;33m.\u001b[0m\u001b[0msum\u001b[0m\u001b[1;33m(\u001b[0m\u001b[0maxis\u001b[0m\u001b[1;33m=\u001b[0m\u001b[1;36m1\u001b[0m\u001b[1;33m)\u001b[0m\u001b[1;33m\u001b[0m\u001b[1;33m\u001b[0m\u001b[0m\n\u001b[0;32m      4\u001b[0m \u001b[0mplt\u001b[0m\u001b[1;33m.\u001b[0m\u001b[0mtitle\u001b[0m\u001b[1;33m(\u001b[0m\u001b[1;34m\"Promedio SIN ventas a granel\"\u001b[0m\u001b[1;33m)\u001b[0m\u001b[1;33m\u001b[0m\u001b[1;33m\u001b[0m\u001b[0m\n\u001b[0;32m      5\u001b[0m \u001b[0mplt\u001b[0m\u001b[1;33m.\u001b[0m\u001b[0mbar\u001b[0m \u001b[1;33m(\u001b[0m\u001b[0mtotal\u001b[0m\u001b[1;33m.\u001b[0m\u001b[0mindex\u001b[0m\u001b[1;33m,\u001b[0m\u001b[0mtotal\u001b[0m\u001b[1;33m,\u001b[0m\u001b[0mcolor\u001b[0m\u001b[1;33m=\u001b[0m\u001b[1;33m[\u001b[0m\u001b[1;34m\"yellow\"\u001b[0m\u001b[1;33m,\u001b[0m\u001b[1;34m\"red\"\u001b[0m\u001b[1;33m,\u001b[0m\u001b[1;34m\"green\"\u001b[0m\u001b[1;33m]\u001b[0m\u001b[1;33m,\u001b[0m \u001b[0mlabel\u001b[0m\u001b[1;33m=\u001b[0m\u001b[1;34m\"media_sin_granel\"\u001b[0m\u001b[1;33m)\u001b[0m\u001b[1;33m\u001b[0m\u001b[1;33m\u001b[0m\u001b[0m\n",
      "\u001b[1;31mNameError\u001b[0m: name 'pd' is not defined"
     ]
    }
   ],
   "source": [
    "Media_sin_granel= pd.DataFrame({\"Media Mercadona\" : [5.02,3.41,3.21]},\n",
    "index = [\"Carrefour\",\"DIA\",\"Mercadona\"])\n",
    "total= Media_sin_granel.sum(axis=1)\n",
    "plt.title(\"Promedio SIN ventas a granel\")\n",
    "plt.bar (total.index,total,color=[\"yellow\",\"red\",\"green\"], label=\"media_sin_granel\")"
   ]
  },
  {
   "cell_type": "markdown",
   "id": "95afb77e",
   "metadata": {},
   "source": [
    "# Respuesta PREGUNTA 2\n",
    "\n",
    "### ARGUMENTO\n",
    "\n",
    "* Se ha observado que *los Precios y los Precios de Referencia* de algunos productos en los tres supermercados no son correctos, por ello, se ha realizado un filtro en la base de datos para excluir los productos con ventas a granel con el fin de obtener la media de los productos de Mercadona con respecto a Carrefour y Dia con más coherencia y exactitud.\n",
    "\n",
    "* Se ha corroborado la media de los productos a través de gráficas de dispersión, filtrado de datos y el cálculo de la mediana para cuantificar la variabilidad de los datos.\n",
    "\n",
    "* Se ha calculado también la media y la mediana de Carrefour Y DIA para compararlas con las mismas restricciones de Mercadona y así tener una respuesta mas acertada.\n",
    "\n",
    "* Se graficó la media **CON y SIN ventas a granel** de los tres supermercados para ver la variación.  \n",
    "\n",
    "\n",
    "### CONCLUSIÓN\n",
    "\n",
    "* Podemos concluir que la **Media** de los productos sin tomar en cuenta los productos con ventas a granel son:**Mercadona=  3.21€, Carrefour = 5.02€ y Dia = 3.41€** y la **Mediana: Mercadona= 1.99€, Carrefour = 2.79€ y Dia = 2.29€**\n",
    "\n",
    "#### *Esto significa que no debemos tener en cuenta las ventas granel ya que perjudican los resultados y no nos arroja una media real de los precios.*\n",
    "\n",
    "De esta manera podemos concluir que si tomamos en cuenta la **media** de los precios de los productos de Mercadona vemos que es inferior al resto de los demás supermercados, lo cual posiciona en primer lugar a **Mercadona con el promedio de precios mas bajo**. Para ser aun más precisos, si tomamos en cuenta la **mediana**, esta es más representativa, ya que nos brinda una mayor precision de los datos, teniendo **Mercadona 1.99€, Carrefour 2.79€ y DIA 2.29€** \n"
   ]
  }
 ],
 "metadata": {
  "kernelspec": {
   "display_name": "Python 3 (ipykernel)",
   "language": "python",
   "name": "python3"
  },
  "language_info": {
   "codemirror_mode": {
    "name": "ipython",
    "version": 3
   },
   "file_extension": ".py",
   "mimetype": "text/x-python",
   "name": "python",
   "nbconvert_exporter": "python",
   "pygments_lexer": "ipython3",
   "version": "3.9.13"
  }
 },
 "nbformat": 4,
 "nbformat_minor": 5
}
